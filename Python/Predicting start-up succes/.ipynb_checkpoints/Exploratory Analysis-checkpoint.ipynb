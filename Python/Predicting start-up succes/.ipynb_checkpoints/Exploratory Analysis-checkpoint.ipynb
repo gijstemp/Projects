{
 "cells": [
  {
   "cell_type": "markdown",
   "id": "71d28f4f",
   "metadata": {},
   "source": [
    "# Housekeeping"
   ]
  },
  {
   "cell_type": "markdown",
   "id": "f43d34a7",
   "metadata": {},
   "source": [
    "The following code will allow you to load and installt all required packages, libraries and functions in order to run the code in the notebook. If a package is not installed on your computer, a line of code is provided as a comment that can be used to install the package with via the command prompts of Conda. IMPORTANT: in order to see all of the plots created in this notebook, please ensure to trust this notebook by going to File -> Trust Notebook."
   ]
  },
  {
   "cell_type": "code",
   "execution_count": 2,
   "id": "bd91ff43",
   "metadata": {
    "tags": [
     "hide-input"
    ]
   },
   "outputs": [
    {
     "data": {
      "text/html": [
       "        <script type=\"text/javascript\">\n",
       "        window.PlotlyConfig = {MathJaxConfig: 'local'};\n",
       "        if (window.MathJax) {MathJax.Hub.Config({SVG: {font: \"STIX-Web\"}});}\n",
       "        if (typeof require !== 'undefined') {\n",
       "        require.undef(\"plotly\");\n",
       "        requirejs.config({\n",
       "            paths: {\n",
       "                'plotly': ['https://cdn.plot.ly/plotly-2.9.0.min']\n",
       "            }\n",
       "        });\n",
       "        require(['plotly'], function(Plotly) {\n",
       "            window._Plotly = Plotly;\n",
       "        });\n",
       "        }\n",
       "        </script>\n",
       "        "
      ]
     },
     "metadata": {},
     "output_type": "display_data"
    }
   ],
   "source": [
    "import pandas as pd\n",
    "import numpy as np\n",
    "import seaborn as sns\n",
    "import pycountry # to install run conda install -c conda-forge pycountry\n",
    "import json\n",
    "import folium\n",
    "from tld import get_tld\n",
    "from datetime import date\n",
    "\n",
    "from matplotlib.ticker import StrMethodFormatter\n",
    "import matplotlib.pyplot as plt\n",
    "%matplotlib inline\n",
    "import matplotlib as mpl\n",
    "mpl.rcParams['text.color'] = 'black'\n",
    "from matplotlib import style\n",
    "style.use('ggplot')\n",
    "pd.set_option('display.max_columns', None)\n",
    "pd.options.mode.chained_assignment = None\n",
    "\n",
    "import plotly as py\n",
    "import plotly.graph_objs as go\n",
    "from plotly import tools\n",
    "from plotly.offline import download_plotlyjs, init_notebook_mode, plot, iplot\n",
    "init_notebook_mode(connected=True)\n",
    "\n",
    "import warnings\n",
    "warnings.filterwarnings(\"ignore\")"
   ]
  },
  {
   "cell_type": "markdown",
   "id": "dd3efd16",
   "metadata": {},
   "source": [
    "# Data prep and engineering"
   ]
  },
  {
   "cell_type": "markdown",
   "id": "6da36d09",
   "metadata": {},
   "source": [
    "This first section is all about preparing the data and data engineering. This will be used in the notebooks for both questions."
   ]
  },
  {
   "cell_type": "markdown",
   "id": "ec9c13b7",
   "metadata": {},
   "source": [
    "## Organisations"
   ]
  },
  {
   "cell_type": "markdown",
   "id": "12b2fed3",
   "metadata": {},
   "source": [
    "First, we will read and transform data on the organizations sheet."
   ]
  },
  {
   "cell_type": "code",
   "execution_count": 3,
   "id": "7daf3d1a",
   "metadata": {
    "tags": [
     "hide-input"
    ]
   },
   "outputs": [],
   "source": [
    "# Read initial csv\n",
    "dforg = pd.read_csv('_data/organisations.csv')"
   ]
  },
  {
   "cell_type": "code",
   "execution_count": 4,
   "id": "4adc4e39",
   "metadata": {
    "tags": [
     "hide-input"
    ]
   },
   "outputs": [],
   "source": [
    "# Remove all rows with NA values in funding_total_usd\n",
    "dforg = dforg[dforg['funding_total_usd'].notna()]"
   ]
  },
  {
   "cell_type": "code",
   "execution_count": 5,
   "id": "e2e28336",
   "metadata": {
    "tags": [
     "hide-input"
    ]
   },
   "outputs": [],
   "source": [
    "# Change na values to 'unknown', blanks or 'NAN'. \n",
    "dforg['state_code'] = dforg['state_code'].fillna('')\n",
    "dforg[['name','category_list','market','status','homepage_url']] = dforg[['name','category_list','market','status','homepage_url']].fillna('Unknown')\n",
    "\n",
    "# Add all necessary new columns such as: timestamp breakdown of founding, first and last funding date\n",
    "dforg['founding_year']=pd.to_datetime(dforg['founded_at'], errors='coerce').dt.year.astype(int, errors='ignore')\n",
    "dforg['founding_month']=pd.to_datetime(dforg['founded_at'], errors='coerce').dt.month.astype(int, errors='ignore')\n",
    "dforg['founding_quarter']=pd.to_datetime(dforg['founded_at'], errors='coerce').dt.quarter.astype(int, errors='ignore')\n",
    "dforg['founding_day']=pd.to_datetime(dforg['founded_at'], errors='coerce').dt.day.astype(int, errors='ignore')\n",
    "dforg['first_funding_year']=pd.to_datetime(dforg['first_funding_at'], errors='coerce').dt.year.astype(int, errors='ignore')\n",
    "dforg['first_funding_month']=pd.to_datetime(dforg['first_funding_at'], errors='coerce').dt.month.astype(int, errors='ignore')\n",
    "dforg['first_funding_quarter']=pd.to_datetime(dforg['first_funding_at'], errors='coerce').dt.quarter.astype(int, errors='ignore')\n",
    "dforg['first_funding_day']=pd.to_datetime(dforg['first_funding_at'], errors='coerce').dt.day.astype(int, errors='ignore')\n",
    "dforg['last_funding_year']=pd.to_datetime(dforg['last_funding_at'], errors='coerce').dt.year.astype(int, errors='ignore')\n",
    "dforg['last_funding_month']=pd.to_datetime(dforg['last_funding_at'], errors='coerce').dt.month.astype(int, errors='ignore')\n",
    "dforg['last_funding_quarter']=pd.to_datetime(dforg['last_funding_at'], errors='coerce').dt.quarter.astype(int, errors='ignore')\n",
    "dforg['last_funding_day']=pd.to_datetime(dforg['last_funding_at'], errors='coerce').dt.day.astype(int, errors='ignore')\n",
    "\n",
    "# Create columns for days between first and last funding, and days between founding and last funding, and drop columns.\n",
    "dforg['DaysBetweenFunding'] = pd.to_datetime(dforg['last_funding_at']) - pd.to_datetime(dforg['first_funding_at'])\n",
    "dforg['DaysBetweenFoundFund'] = pd.to_datetime(dforg['last_funding_at']) - pd.to_datetime(dforg['founded_at'])\n",
    "\n",
    "#Change column type to just the number of days\n",
    "dforg['DaysBetweenFunding']=dforg['DaysBetweenFunding']/np.timedelta64(1, 'D')\n",
    "dforg['DaysBetweenFoundFund']=dforg['DaysBetweenFoundFund']/np.timedelta64(1, 'D')\n",
    "\n",
    "# Remove spaces before and after values\n",
    "dforg.rename(columns=lambda x: x.strip(), inplace=True)\n",
    "\n",
    "# Calculate average days between funding rounds\n",
    "dforg['DaysPerRound'] = dforg['DaysBetweenFunding'] / dforg['funding_rounds']"
   ]
  },
  {
   "cell_type": "code",
   "execution_count": 6,
   "id": "4cc31503",
   "metadata": {
    "tags": [
     "hide-input"
    ]
   },
   "outputs": [],
   "source": [
    "# Remove all entries with founding year before 1995\n",
    "dforg = dforg[dforg['founding_year'] >= 1995]"
   ]
  },
  {
   "cell_type": "code",
   "execution_count": 7,
   "id": "44da1831",
   "metadata": {
    "tags": [
     "hide-input"
    ]
   },
   "outputs": [],
   "source": [
    "# There are 8 problematic websites in the data with incorrect Top-Level Domains, commas where there should\n",
    "# be dots or incomplete website URLs. We replace these values by the corrected website data\n",
    "dforg['homepage_url'] = dforg['homepage_url'].replace('http://www.huddleapp,me', 'http://www.huddleapp.me')\n",
    "dforg['homepage_url'] = dforg['homepage_url'].replace('http://www.benjerry/jacklondonsquare.com', 'http://www.benjerryjacklondonsquare.com')\n",
    "dforg['homepage_url'] = dforg['homepage_url'].replace('http://www.miew.co.hp', 'http://www.miew.co.jp')\n",
    "dforg['homepage_url'] = dforg['homepage_url'].replace('http://www.nomadicabrainstorming.como', 'http://www.nomadicabrainstorming.com')\n",
    "dforg['homepage_url'] = dforg['homepage_url'].replace('http://www.sparkow', 'http://www.sparkow.fr')\n",
    "dforg['homepage_url'] = dforg['homepage_url'].replace('http://www.secneo.com http://www.bangcle.com', 'http://www.bangcle.com')\n",
    "dforg['homepage_url'] = dforg['homepage_url'].replace('http://Sparo Labs is bringing the power of modern technology to the world of asthma.', 'https://sparohealth.com/')\n",
    "dforg['homepage_url'] = dforg['homepage_url'].replace('http://translate.googleusercontent.com/translate_c?hl=de&ie=UTF-8&sl=de&tl=en&u=http://www.spiegel.de/wirtschaft/unternehmen/0,1518,754461,00.html&prev=_t&rurl=translate.google.de&twu=1&usg=ALkJrhgA_p5iyssKyL0mm4sr4fMnnQ9yyw', 'http://www.safe-id.de/')"
   ]
  },
  {
   "cell_type": "code",
   "execution_count": 8,
   "id": "09376823",
   "metadata": {
    "tags": [
     "hide-input"
    ]
   },
   "outputs": [],
   "source": [
    "# Defining an empty list to fill with the domain function objects\n",
    "urls = []\n",
    "\n",
    "# for every URL in the original dataframe, we extract the top-level domain information as an object \n",
    "# and ignore errors as the errors should only be for values that list 'Unknown'\n",
    "for i in dforg['homepage_url']:\n",
    "     urls.append(get_tld(i, as_object=True, fail_silently=True))\n",
    "        \n",
    "# Changing data type from object to string and populate new column\n",
    "dforg['Domains'] = [str(i) for i in urls]\n",
    "\n",
    "# We repeat the same process but now focus on the length of the names that companies use for their websites\n",
    "names = []\n",
    "for j in dforg['homepage_url']:  \n",
    "     names.append(get_tld(j, as_object=True, fail_silently=True))\n",
    "names = [j.domain if j != None else j for j in names]\n",
    "\n",
    "# As the unknown values cannot be turned into domain information they are listed as None\n",
    "# for these instances, we replace the length information with 0 to show it is unknown\n",
    "dforg['DomainLength'] = [len(str(j)) if j != None else j for j in names]\n",
    "dforg['DomainLength'] = dforg['DomainLength'].replace(np.nan, 0)"
   ]
  },
  {
   "cell_type": "code",
   "execution_count": 9,
   "id": "f82b0ea4",
   "metadata": {
    "tags": [
     "hide-input"
    ]
   },
   "outputs": [],
   "source": [
    "# Export dataframe to .csv for ease of future use.\n",
    "dforg.to_csv(\"_data/dforg_final.csv\")"
   ]
  },
  {
   "cell_type": "markdown",
   "id": "9240450a",
   "metadata": {},
   "source": [
    "## Investments"
   ]
  },
  {
   "cell_type": "markdown",
   "id": "6c0ab89b",
   "metadata": {},
   "source": [
    "Secondly, we read and transform the data related to investments done in the startups."
   ]
  },
  {
   "cell_type": "code",
   "execution_count": 10,
   "id": "2144d7dd",
   "metadata": {
    "tags": [
     "hide-input"
    ]
   },
   "outputs": [],
   "source": [
    "# Read initial csv\n",
    "dfinv = pd.read_csv(\"_data/investments.csv\", skiprows= [1])  # The first row is skipped as it seems to be a fake entry"
   ]
  },
  {
   "cell_type": "code",
   "execution_count": 11,
   "id": "04327e7b",
   "metadata": {
    "tags": [
     "hide-input"
    ]
   },
   "outputs": [],
   "source": [
    "# Only keep data that is also in the organisation data set and funded since 1995\n",
    "orglink = dforg['permalink'].drop_duplicates()\n",
    "dfinv = dfinv.loc[dfinv['company_permalink'].isin(orglink)]\n",
    "dfinv = dfinv[dfinv['funded_year'] >= 1995]"
   ]
  },
  {
   "cell_type": "code",
   "execution_count": 12,
   "id": "ab174dca",
   "metadata": {
    "tags": [
     "hide-input"
    ]
   },
   "outputs": [],
   "source": [
    "# Remove all rows with NA values in company_permalink\n",
    "dfinv = dfinv[dfinv['company_permalink'].notna()]\n",
    "\n",
    "# Replace comma in raised_amount_usd and replace '-' values with NaN\n",
    "dfinv['raised_amount_usd']=dfinv['raised_amount_usd'].str.replace(',', '').replace(' -   ', np.nan).astype(float)"
   ]
  },
  {
   "cell_type": "code",
   "execution_count": 13,
   "id": "ab112e71",
   "metadata": {
    "tags": [
     "hide-input"
    ]
   },
   "outputs": [],
   "source": [
    "# Add all necessary new columns such as: timestamp breakdown of funding date\n",
    "dfinv['funded_at'] = pd.to_datetime(dfinv['funded_at'])\n",
    "dfinv['funded_decade']=(dfinv['funded_year']//10)*10\n",
    "dfinv['funded_month']=pd.to_datetime(dfinv['funded_at'], errors='coerce').dt.month.astype(int, errors='ignore')\n",
    "dfinv['funded_quarter']=pd.to_datetime(dfinv['funded_at'], errors='coerce').dt.quarter.astype(int, errors='ignore')\n",
    "dfinv['funded_day']=pd.to_datetime(dfinv['funded_at'], errors='coerce').dt.day.astype(int, errors='ignore')\n",
    "\n",
    "# And: Investor types per funding round. organisation - only organisations, person - only angel investors, organization,person - both\n",
    "dfinv[\"investor_type\"] = dfinv['investor_permalink'].str.rsplit(\"/\", n=1).str.get(0).str[1:]\n",
    "dfinv = dfinv[dfinv[\"investor_type\"].notna()]\n",
    "dfinvtype = dfinv.groupby('funding_round_permalink')['investor_type'].apply(lambda x: ','.join(x.dropna().unique())).reset_index()\n",
    "dfinv = pd.merge(dfinv, dfinvtype, on = \"funding_round_permalink\", how=\"left\")\n",
    "del dfinv['investor_type_x']\n",
    "\n",
    "# And the dummy variables of the different investor types\n",
    "invtype = pd.get_dummies(dfinv['investor_type_y'])\n",
    "invtype = invtype.astype(int)\n",
    "dfinv = pd.merge(dfinv, invtype, left_index = True, right_index = True)\n",
    "\n",
    "# And: the funding amount divided by the number of investors. This because the amounts attributed to the investors per funding permalink \n",
    "# was the grand total of that funding round, and not the per investor amount. In this way we average the amount over all investors.\n",
    "dfinv['count'] = dfinv.groupby('funding_round_permalink')['funding_round_permalink'].transform('count')\n",
    "dfinv['amount_divided'] = dfinv['raised_amount_usd']/dfinv['count']\n"
   ]
  },
  {
   "cell_type": "code",
   "execution_count": 14,
   "id": "564e8590",
   "metadata": {
    "tags": [
     "hide-input"
    ]
   },
   "outputs": [],
   "source": [
    "# Export dataframe to .csv for wease of future use.\n",
    "dfinv.to_csv(\"_data/dfinv_final.csv\")"
   ]
  },
  {
   "cell_type": "markdown",
   "id": "b9fa7a1d",
   "metadata": {},
   "source": [
    "## Acquisitions"
   ]
  },
  {
   "cell_type": "markdown",
   "id": "eca14fee",
   "metadata": {},
   "source": [
    "We also import information on the startups that were acquired by investors or investment firms and transform the data to suit our analyses."
   ]
  },
  {
   "cell_type": "code",
   "execution_count": 15,
   "id": "db710b78",
   "metadata": {
    "tags": [
     "hide-input"
    ]
   },
   "outputs": [],
   "source": [
    "# Read initial csv\n",
    "dfacq = pd.read_csv('_data/acquisitions.csv', low_memory = False)"
   ]
  },
  {
   "cell_type": "code",
   "execution_count": 16,
   "id": "456e63b0",
   "metadata": {
    "tags": [
     "hide-input"
    ]
   },
   "outputs": [],
   "source": [
    "# Only keep data that is also in the organisation data set\n",
    "dfacq = dfacq[dfacq['company_permalink'].notna()]\n",
    "dfacq  = dfacq .loc[dfacq ['company_permalink'].isin(orglink)]\n",
    "\n",
    "# Remove spaces before and after values\n",
    "dfacq.rename(columns=lambda x: x.strip(), inplace=True)\n",
    "\n",
    "# Replace comma in raised_amount_usd and replace '-' values with NaN\n",
    "dfacq['price_amount']=dfacq['price_amount'].str.replace(',', '').replace(' -   ', np.nan).astype(float)"
   ]
  },
  {
   "cell_type": "code",
   "execution_count": 17,
   "id": "ba14b779",
   "metadata": {
    "tags": [
     "hide-input"
    ]
   },
   "outputs": [],
   "source": [
    "# Add all necessary new columns such as: timestamp breakdown of acquisition date\n",
    "dfacq['acquired_at'] = pd.to_datetime(dfacq['acquired_at'], errors='coerce')\n",
    "dfacq = dfacq.dropna(subset=['acquired_at'])\n",
    "dfacq['acquired_year']=pd.to_datetime(dfacq['acquired_at'], errors='coerce').dt.year.astype(int, errors='ignore')\n",
    "dfacq['acquired_month']=pd.to_datetime(dfacq['acquired_at'], errors='coerce').dt.month.astype(int, errors='ignore')\n",
    "dfacq['acquired_quarter']=pd.to_datetime(dfacq['acquired_at'], errors='coerce').dt.quarter.astype(int, errors='ignore')\n",
    "dfacq['acquired_day']=pd.to_datetime(dfacq['acquired_at'], errors='coerce').dt.day.astype(int, errors='ignore')\n",
    "\n",
    "# Only keep data of acquisition since 1995\n",
    "dfacq=dfacq[dfacq['acquired_year']>=1995]"
   ]
  },
  {
   "cell_type": "code",
   "execution_count": 18,
   "id": "2e53cc35",
   "metadata": {
    "tags": [
     "hide-input"
    ]
   },
   "outputs": [],
   "source": [
    "# Add column converting foreign currency to US Dollars\n",
    "# pip install --user currencyconverter  ### When running first time -> install this package and restart kernel\n",
    "from currency_converter import CurrencyConverter\n",
    "from datetime import date\n",
    "\n",
    "c = CurrencyConverter(fallback_on_missing_rate=True,fallback_on_wrong_date=True)\n",
    "\n",
    "def currency_convertor(row):  # This function calls the amount, currency code and year of the entries and converts them accordingly\n",
    "    amount = row['price_amount']\n",
    "    curr = row['price_currency_code']\n",
    "    date_r = row['acquired_year']\n",
    "    new_curr = c.convert(amount,curr,'USD',date=date(date_r,1,1))\n",
    "    return new_curr\n",
    "\n",
    "dfacq['price_amount_USD'] = dfacq.apply(currency_convertor, axis=1) "
   ]
  },
  {
   "cell_type": "code",
   "execution_count": 19,
   "id": "cbcb8f6d",
   "metadata": {
    "tags": [
     "hide-input"
    ]
   },
   "outputs": [],
   "source": [
    "# Time between acquisition and last funding + Time between founding and acquisition\n",
    "dfacq=pd.merge(dfacq,dforg[['permalink','last_funding_at','founded_at']],how='left',left_on='company_permalink',right_on='permalink')\n",
    "dfacq['acquired_at']=dfacq['acquired_at'].astype(str)\n",
    "dfacq['time_acq_last_funding']=pd.to_datetime(dfacq['acquired_at'])-pd.to_datetime(dfacq['last_funding_at'])\n",
    "dfacq['time_founding_acq']=pd.to_datetime(dfacq['acquired_at'])-pd.to_datetime(dfacq['founded_at'])\n",
    "dfacq['time_acq_last_funding']=dfacq['time_acq_last_funding']/np.timedelta64(1, 'D')\n",
    "dfacq['time_founding_acq']=dfacq['time_founding_acq']/np.timedelta64(1, 'D')\n",
    "dfacq.drop(['permalink','last_funding_at','founded_at'],axis=1,inplace=True)\n",
    "dforg = dforg.drop(['founded_at', 'first_funding_at', 'last_funding_at'], axis=1)  # Needs to be dropped from dforg"
   ]
  },
  {
   "cell_type": "code",
   "execution_count": 20,
   "id": "7520b269",
   "metadata": {},
   "outputs": [],
   "source": [
    "# Export dataframe to .csv for wease of future use.\n",
    "dfacq.to_csv(\"_data/dfacq_final.csv\")"
   ]
  },
  {
   "cell_type": "markdown",
   "id": "66807c22",
   "metadata": {},
   "source": [
    "## Rounds"
   ]
  },
  {
   "cell_type": "markdown",
   "id": "359f20ce",
   "metadata": {},
   "source": [
    "We also load information on each investment round for the startups and transform the data to suit our needs."
   ]
  },
  {
   "cell_type": "code",
   "execution_count": 21,
   "id": "3e0a4cba",
   "metadata": {
    "tags": [
     "hide-input"
    ]
   },
   "outputs": [],
   "source": [
    "# Read initial csv and remove empty column\n",
    "dfrou = pd.read_csv('_data/rounds.csv')\n",
    "dfrou = dfrou.drop('Unnamed: 16', axis = 1)"
   ]
  },
  {
   "cell_type": "code",
   "execution_count": 22,
   "id": "0897f36a",
   "metadata": {
    "tags": [
     "hide-input"
    ]
   },
   "outputs": [],
   "source": [
    "# Only keep data that is also in the organisation data set\n",
    "dfrou = dfrou[dfrou['company_permalink'].notna()]\n",
    "dfrou  = dfrou .loc[dfrou['company_permalink'].isin(orglink)]\n",
    "\n",
    "# Remove spaces before and after values\n",
    "dfrou.rename(columns=lambda x: x.strip(), inplace=True)\n",
    "\n",
    "# Replace comma in raised_amount_usd and replace '-' values with NaN\n",
    "dfrou['raised_amount_usd']=dfrou['raised_amount_usd'].str.replace(',', '').replace(' -   ', np.nan).astype(float)"
   ]
  },
  {
   "cell_type": "code",
   "execution_count": 23,
   "id": "f9b2acc9",
   "metadata": {
    "tags": [
     "hide-input"
    ]
   },
   "outputs": [],
   "source": [
    "# Add time between the rounds\n",
    "dfrou['funded_month'] = pd.to_datetime(dfrou['funded_month'])\n",
    "dfrou = dfrou.sort_values(['company_permalink','funded_month'])\n",
    "dfrou['round_count'] = dfrou.groupby('company_permalink').cumcount()+1\n",
    "dfrou['time_diff'] = dfrou.groupby('company_permalink')['funded_month'].diff()"
   ]
  },
  {
   "cell_type": "code",
   "execution_count": 24,
   "id": "13ec5c9f",
   "metadata": {
    "tags": [
     "hide-input"
    ]
   },
   "outputs": [],
   "source": [
    "# Add all necessary new columns such as: timestamp breakdown of acquisition date\n",
    "dfrou['funded_at'] = pd.to_datetime(dfrou['funded_at'], errors='coerce')\n",
    "dfrou = dfrou.dropna(subset=['funded_at'])\n",
    "dfrou['round_funded_year']=pd.to_datetime(dfrou['funded_at'], errors='coerce').dt.year.astype(int, errors='ignore')\n",
    "dfrou['round_funded_month']=pd.to_datetime(dfrou['funded_at'], errors='coerce').dt.month.astype(int, errors='ignore')\n",
    "dfrou['round_funded_quarter']=pd.to_datetime(dfrou['funded_at'], errors='coerce').dt.quarter.astype(int, errors='ignore')\n",
    "dfrou['round_funded_day']=pd.to_datetime(dfrou['funded_at'], errors='coerce').dt.day.astype(int, errors='ignore')\n",
    "dfrou.drop(['funded_month','funded_quarter','funded_year'], axis=1, inplace=True)\n",
    "\n",
    "# Only keep data of acquisition since 1995\n",
    "dfrou=dfrou[dfrou['round_funded_year']>=1995]"
   ]
  },
  {
   "cell_type": "code",
   "execution_count": 25,
   "id": "f0254fc7",
   "metadata": {
    "tags": [
     "hide-input"
    ]
   },
   "outputs": [],
   "source": [
    "# Override funding_round_type with the corresponding funding_round_code (in case of ventures and letters)\n",
    "dfrou.loc[dfrou['funding_round_code']=='A','funding_round_type']='A'\n",
    "dfrou.loc[dfrou['funding_round_code']=='B','funding_round_type']='B'\n",
    "dfrou.loc[dfrou['funding_round_code']=='C','funding_round_type']='C'\n",
    "dfrou.loc[dfrou['funding_round_code']=='D','funding_round_type']='D'\n",
    "dfrou.loc[dfrou['funding_round_code']=='E','funding_round_type']='E'\n",
    "dfrou.loc[dfrou['funding_round_code']=='F','funding_round_type']='F'\n",
    "dfrou.loc[dfrou['funding_round_code']=='G','funding_round_type']='G'\n",
    "dfrou.loc[dfrou['funding_round_code']=='H','funding_round_type']='H'\n",
    "# Drop funding round code column\n",
    "dfrou = dfrou.drop('funding_round_code',1)"
   ]
  },
  {
   "cell_type": "code",
   "execution_count": 26,
   "id": "875949dc",
   "metadata": {
    "tags": [
     "hide-input"
    ]
   },
   "outputs": [],
   "source": [
    "# Add investor types from dfinv sheet\n",
    "dfrou = pd.merge(dfrou, dfinv[['funding_round_permalink', 'investor_type_y']], on = \"funding_round_permalink\", how = 'left')\n",
    "dfrou.drop_duplicates(keep = 'first', inplace = True)"
   ]
  },
  {
   "cell_type": "code",
   "execution_count": 27,
   "id": "12934a56",
   "metadata": {},
   "outputs": [],
   "source": [
    "# Export dataframe to .csv for wease of future use.\n",
    "dfrou.to_csv(\"_data/dfrou_final.csv\")"
   ]
  },
  {
   "cell_type": "markdown",
   "id": "67600f0b",
   "metadata": {},
   "source": [
    "## Secondary data"
   ]
  },
  {
   "cell_type": "markdown",
   "id": "a18c1bb5",
   "metadata": {},
   "source": [
    "Apart from the data sheets that were given, we also collected some secondary data to help us with our analysis. This sections explains where the data came from and shows the data engineering done to get the dataset working."
   ]
  },
  {
   "cell_type": "markdown",
   "id": "25558dce",
   "metadata": {},
   "source": [
    "### Startup Ecosystem"
   ]
  },
  {
   "cell_type": "markdown",
   "id": "ab796823",
   "metadata": {},
   "source": [
    "The ecosystem data consists out of a list with the top 36 startup ecosystems (with 46 search terms) and its most nearest/encompassing city. The list of startup ecosystems was obtained from The Global Startup Ecosystem Report 2021 (Startup Genome, 2021), which provides the following definition of startup ecosystem (a.k.a. innovation ecosystem): \"clusters of startups and related entities that draw from a shared pool of resources”. One of the best known startup ecosystem is Silicon Valley, which is the home of many succesful startups, and not without a reason. Recent research by Bandera & Thomas (2019) showed that startups that use social capital by collaborating with partners from innovation ecosystems, such as universities, governmental instituations and other players in the industry, significantly outperform startups that do not. Additionally, Andrews and colleagues (2022) recently showed characteristics of startup ecosystems can help predict entrepreneurial performance. This recent research informed us that if a startup is located in a city which has a startup ecosystem associated to it, it might function as a predictor for our predictive model. \n",
    "\n",
    "##### Andrews, R., Fazio, C., Guzman, J., Liu, Y., & Stern, S. (2022). The Startup Cartography Project: Measuring and mapping entrepreneurial ecosystems. Research Policy, 51(2), 104437. https://doi.org/10.1016/j.respol.2021.104437\n",
    "##### Bandera, C., & Thomas, E. (2019). The Role of Innovation Ecosystems and Social Capital in Startup Survival. IEEE Transactions on Engineering Management, 66(4), 542–551. https://doi.org/10.1109/tem.2018.2859162\n",
    "##### Startup Genome. (2021). The Global Startup Ecosystem Report 2021. https://startupgenome.com/reports/gser2021"
   ]
  },
  {
   "cell_type": "code",
   "execution_count": null,
   "id": "a651464f",
   "metadata": {
    "tags": [
     "hide-input"
    ]
   },
   "outputs": [],
   "source": [
    "# Add secondary data on Ecosystem:\n",
    "# Read data on 36 ecosystems (with 46 search terms) \n",
    "dforg.reset_index(drop=True, inplace=True)\n",
    "list_ecosystem = list(pd.read_excel(\"_data/Secondary Data.xlsx\", sheet_name = 'Startup Ecosystem top 36 (21)')['Cities'])\n",
    "\n",
    "#Add a column and when startup is located in ecosystem, add 1 instead of 0\n",
    "dforg['Ecosystem'] = 0 \n",
    "for i in range(0, len(dforg.index)-1): \n",
    "    for j in list_ecosystem:\n",
    "        if dforg.loc[i,'city'] == j: \n",
    "            dforg.loc[i,'Ecosystem'] = 1 \n",
    "        elif dforg.loc[i,'region'] == j:\n",
    "            dforg.loc[i,'Ecosystem'] = 1 "
   ]
  },
  {
   "cell_type": "markdown",
   "id": "463eb256",
   "metadata": {},
   "source": [
    "### GDP & GDP Per Capita"
   ]
  },
  {
   "cell_type": "markdown",
   "id": "1cc95fb8",
   "metadata": {},
   "source": [
    "As Bosma and collegues (2008) identified a U-shaped relationship between early-stage entrepreneurial activity and GDP per capita, and many other research uses GDP as a control variable when researching startup performance, we decided to include GDP and GDP per capita as potential predictors. In order to do so, we aggregated the GDP per year data into a variety of measures (see below) to minimize the inflation of our dataset. We did the exact same aggregations for similar data of the GDP per capita and gave them similar but different names.\n",
    "\n",
    "##### Bosma, N., K. Jones, E. Autio, and J. Levie (2008), Global Entrepreneurship Monitor, 2007 Executive Report. MA, US/London Business School, London, UK: Babson College, Babson Park."
   ]
  },
  {
   "cell_type": "code",
   "execution_count": null,
   "id": "c580b7bd",
   "metadata": {},
   "outputs": [],
   "source": [
    "# gdpFOU = the gdp of the startup's country during the founding year\n",
    "# gdpFUNF = the gdp of the startup's country during the year of first funding\n",
    "# gdpFUNL = the gdp of the startup's country during the year of last funding\n",
    "# gdpF95 = the gdp of the startup's country during 1995\n",
    "# gdpF15 = the gdp of the startup's country during 2015\n",
    "# gdp95_15 = the difference in gdp of the startup's country between 1995 and 2015\n",
    "# gdppcFOU_FUNL = the difference in gdp of the startup's country between the founding year and the year of last funding\n",
    "# gdppcFUNF_FUNL = the difference in gdp of the startup's country between the year of first funding and the year of last funding"
   ]
  },
  {
   "cell_type": "code",
   "execution_count": null,
   "id": "f444562b",
   "metadata": {
    "tags": [
     "hide-input"
    ]
   },
   "outputs": [],
   "source": [
    "# Add secondary data on GDP:\n",
    "# For the GDP per country per year\n",
    "df_gdp = pd.read_excel(\"_data/Secondary Data.xlsx\", sheet_name = 'GDP per Country per Year')\n",
    "\n",
    "dforg['gdpFOU'] = 0\n",
    "dforg['gdpFUNF'] = 0\n",
    "dforg['gdpFUNL'] = 0\n",
    "dforg['gdp95'] = 0\n",
    "dforg['gdp15'] = 0\n",
    "\n",
    "country_codes_gdp = list(df_gdp['Code'])\n",
    "for x in country_codes_gdp: \n",
    "    if x in list(dforg['country_code']):\n",
    "        for i in range(0, len(dforg.index)): \n",
    "            if dforg.loc[i,'country_code'] == x:\n",
    "                for j in range(0, len(df_gdp.index)): \n",
    "                    if df_gdp.loc[j,'Code'] == x:\n",
    "                        for column in df_gdp:\n",
    "                            if dforg.loc[i,'founding_year'] == column: \n",
    "                                dforg.loc[i,'gdpFOU'] = df_gdp.loc[j, column]\n",
    "                            if dforg.loc[i,'first_funding_year'] == column: \n",
    "                                dforg.loc[i,'gdpFUNF'] = df_gdp.loc[j, column]\n",
    "                            if dforg.loc[i,'last_funding_year'] == column: \n",
    "                                dforg.loc[i,'gdpFUNL'] = df_gdp.loc[j, column]\n",
    "                            if column == 1995: \n",
    "                                dforg.loc[i,'gdp95'] = df_gdp.loc[j, 1995]\n",
    "                            if column == 2015: \n",
    "                                dforg.loc[i,'gdp15'] = df_gdp.loc[j, 2015]\n",
    "\n",
    "dforg['gdp95_15'] = dforg['gdp15'] - dforg['gdp95']\n",
    "dforg['gdpFOU_FUNL'] = dforg['gdpFUNL'] - dforg['gdpFOU']\n",
    "dforg['gdpFUNF_FUNL'] = dforg['gdpFUNL'] - dforg['gdpFUNF']    \n",
    "\n",
    "# Add secondary data on GDP per capita:\n",
    "# For the GDP per capita per country per year (takes around 15 minutes to run!)\n",
    "df_gdppc = pd.read_excel(\"_data/Secondary Data.xlsx\", sheet_name = 'GDP per capita 1820-2018')\n",
    "\n",
    "dforg['gdppcFOU'] = 0\n",
    "dforg['gdppcFUNF'] = 0\n",
    "dforg['gdppcFUNL'] = 0\n",
    "dforg['gdppc95'] = 0\n",
    "dforg['gdppc15'] = 0\n",
    "\n",
    "country_codes_gdppc = df_gdppc.Code.unique()\n",
    "for x in country_codes_gdppc: \n",
    "    if x in list(dforg['country_code']):\n",
    "        for i in range(0, len(dforg.index)): \n",
    "            if dforg.loc[i,'country_code'] == x:\n",
    "                for j in range(0, len(df_gdppc.index)): \n",
    "                    if df_gdppc.loc[j,'Code'] == x:\n",
    "                        if df_gdppc.loc[j,'Year'] == dforg.loc[i,'founding_year']:\n",
    "                            dforg.loc[i,'gdppcFOU'] = df_gdppc.loc[j,'GDP per capita']\n",
    "                        if df_gdppc.loc[j,'Year'] == dforg.loc[i,'first_funding_year']:\n",
    "                            dforg.loc[i,'gdppcFUNF'] = df_gdppc.loc[j,'GDP per capita']\n",
    "                        if df_gdppc.loc[j,'Year'] == dforg.loc[i,'last_funding_year']:\n",
    "                            dforg.loc[i,'gdppcFUNL'] = df_gdppc.loc[j,'GDP per capita']\n",
    "                        if df_gdppc.loc[j,'Year'] == 1995:\n",
    "                            dforg.loc[i,'gdppc95'] = df_gdppc.loc[j,'GDP per capita']\n",
    "                        if df_gdppc.loc[j,'Year'] == 2015:\n",
    "                            dforg.loc[i,'gdppc15'] = df_gdppc.loc[j,'GDP per capita']\n",
    "\n",
    "dforg['gdppc95_15'] = dforg['gdppc15'] - dforg['gdppc95']\n",
    "dforg['gdppcFOU_FUNL'] = dforg['gdppcFUNL'] - dforg['gdppcFOU']\n",
    "dforg['gdppcFUNF_FUNL'] = dforg['gdppcFUNL'] - dforg['gdppcFUNF']"
   ]
  },
  {
   "cell_type": "markdown",
   "id": "b26e344d",
   "metadata": {},
   "source": [
    "### Researchers in R&D per Million"
   ]
  },
  {
   "cell_type": "markdown",
   "id": "ddf079b7",
   "metadata": {},
   "source": [
    "Hyytinen and colleagues (2015) provide the insight that a startup’s innovativeness functions as a two-edged sword. On one side startups need to be innovative and novel to become successful, but on the other side innovativeness, especially in combination with risk seeking founders, can cause a misfit with current needs and markets and thereby decrease the chance of survival. Additionally, Joglekar & LÉvesque (2009) found that startup valuation is positively impacted by improved product quality, which is on its turn impacted by R&D. Last but not least, Camuffo and colleagues (2020) recently confirmed that \"a scientific approach improves precision—it reduces the odds of pursuing projects with false positive returns and increases the odds of pursuing projects with false negative returns.\". Based on these findings, we ought it to be interesting to see if the number of researchers in R&D per million people in a country could be a predictor in our predictive model. \n",
    "\n",
    "##### Camuffo, A., Cordova, A., Gambardella, A., & Spina, C. (2020). A Scientific Approach to Entrepreneurial Decision Making: Evidence from a Randomized Control Trial. Management Science, 66(2), 564–586. https://doi.org/10.1287/mnsc.2018.3249\n",
    "##### Hyytinen, A., Pajarinen, M., & Rouvinen, P. (2015). Does innovativeness reduce startup survival rates? Journal of Business Venturing, 30(4), 564–581. https://doi.org/10.1016/j.jbusvent.2014.10.001\n",
    "##### Joglekar, N. R., & LÉvesque, M. (2009). Marketing, R&D, and Startup Valuation. IEEE Transactions on Engineering Management, 56(2), 229–242. https://doi.org/10.1109/tem.2008.927827"
   ]
  },
  {
   "cell_type": "code",
   "execution_count": null,
   "id": "7cb89319",
   "metadata": {
    "tags": [
     "hide-input"
    ]
   },
   "outputs": [],
   "source": [
    "# Add secondary data on Researchers:\n",
    "# Researchers in R&D per Million per country per year\n",
    "df_researchers = pd.read_excel(\"Secondary Data.xlsx\", sheet_name = 'Researchers in R&D per Million ')\n",
    "\n",
    "dforg['r&dFOU'] = 0\n",
    "dforg['r&dFUNF'] = 0\n",
    "dforg['r&dFUNL'] = 0\n",
    "dforg['r&d95'] = 0\n",
    "dforg['r&d15'] = 0\n",
    "\n",
    "country_codes_researchers = list(df_researchers['Code'])\n",
    "for x in country_codes_researchers: \n",
    "    if x in list(dforg['country_code']):\n",
    "#         print(list(country_codes_researchers).index(x), x)\n",
    "        for i in range(0, len(dforg.index)): \n",
    "            if dforg.loc[i,'country_code'] == x:\n",
    "                for j in range(0, len(df_researchers.index)): \n",
    "                    if df_researchers.loc[j,'Code'] == x:\n",
    "                        for column in df_researchers:\n",
    "                            if dforg.loc[i,'founding_year'] == column: \n",
    "                                dforg.loc[i,'r&dFOU'] = df_researchers.loc[j, column]\n",
    "                            if dforg.loc[i,'first_funding_year'] == column: \n",
    "                                dforg.loc[i,'r&dFUNF'] = df_researchers.loc[j, column]\n",
    "                            if dforg.loc[i,'last_funding_year'] == column: \n",
    "                                dforg.loc[i,'r&dFUNL'] = df_researchers.loc[j, column]\n",
    "                            if column == 1995: \n",
    "                                dforg.loc[i,'r&d95'] = df_researchers.loc[j, 1995]\n",
    "                            if column == 2015: \n",
    "                                dforg.loc[i,'r&d15'] = df_researchers.loc[j, 2015]\n",
    "\n",
    "dforg['r&d95_15'] = dforg['r&d15'] - dforg['r&d95']\n",
    "dforg['r&dFOU_FUNL'] = dforg['r&dFUNL'] - dforg['r&dFOU']\n",
    "dforg['r&dFUNF_FUNL'] = dforg['r&dFUNL'] - dforg['r&dFUNF']    "
   ]
  },
  {
   "cell_type": "code",
   "execution_count": null,
   "id": "a4720283",
   "metadata": {
    "tags": [
     "hide-input"
    ]
   },
   "outputs": [],
   "source": [
    "# Export dataframe to .csv for wease of future use.\n",
    "# df_organizations.to_csv(\"dforgbonus_final.csv\")"
   ]
  },
  {
   "cell_type": "markdown",
   "id": "9d2cb40d",
   "metadata": {},
   "source": [
    "## End of data prep and engineering"
   ]
  },
  {
   "cell_type": "code",
   "execution_count": null,
   "id": "c622ce6d",
   "metadata": {
    "tags": [
     "hide-input"
    ]
   },
   "outputs": [],
   "source": [
    "# For sake of ease of use we can now just read the complete datasets so that we dont need to run the above everytime.\n",
    "# dforg = pd.read_csv('dforg_final.csv', index_col = 0)\n",
    "# dfinv = pd.read_csv('dfinv_final.csv', index_col = 0)\n",
    "# dfacq = pd.read_csv('dfacq_final.csv', index_col = 0)\n",
    "# dfrou = pd.read_csv('dfrou_final.csv', index_col = 0)\n",
    "# dforgbonus = pd.read_csv('dforgbonus_final.csv', index_col = 0)"
   ]
  },
  {
   "cell_type": "markdown",
   "id": "198e18f0",
   "metadata": {},
   "source": [
    "# Descriptives"
   ]
  },
  {
   "cell_type": "markdown",
   "id": "576bab9d",
   "metadata": {},
   "source": [
    "In this section we analyse the startup data between 1995 and 2015 on the trends on a multitude of dimensions. Below, you will be able to find an overview of various aspects of the startups and the associated analyses that were performed. "
   ]
  },
  {
   "cell_type": "markdown",
   "id": "1870e95e",
   "metadata": {},
   "source": [
    "## Global Overview"
   ]
  },
  {
   "cell_type": "markdown",
   "id": "439f4cc0",
   "metadata": {},
   "source": [
    "#### Startup Location Heatmap & Ecosystem Locations"
   ]
  },
  {
   "attachments": {
    "U-shaped%20relation-2.png": {
     "image/png": "[encoded data removed]"
    }
   },
   "cell_type": "markdown",
   "id": "3441a7d3",
   "metadata": {},
   "source": [
    "###### Startup Location\n",
    "Our world map shows the (log) startup density of all countries which were included in the data. From the plot it might be difficult to locate any patterns, as many countries in varying developmental stages have a relatively high startup density. A reason for this might be presented by Bosma and collegues (2008), who identified a U-shaped relationship between early-stage entrepreneurial activity and GDP per capita. The relation is visualised in the figure below. \n",
    "\n",
    "![U-shaped%20relation-2.png](attachment:U-shaped%20relation-2.png)\n",
    "##### Bosma, N., K. Jones, E. Autio, and J. Levie (2008), Global Entrepreneurship Monitor, 2007 Executive Report. MA, US/London Business School, London, UK: Babson College, Babson Park.\n",
    "###### Startup Ecosystems\n",
    "The world map below also features the top 46 startup ecosystems according to the The Global Startup Ecosystem Report 2021 (Startup Genome, 2021). These are represented by the interactive bubbles: by zooming-in and clicking on individual red bubbles, a pop-up with the corresponding startup ecosystem name will appear. Startup ecosystems are \"clusters of startups and related entities that draw from a shared pool of resources” (Startup Genome, 2021). Which informs our understanding of their placement on the world map, as the startup ecosystems are located at startup-dense areas, which gives startups and other organizations within the ecosystem the opportunity to support and inspire eachoter.   \n",
    "##### Startup Genome. (2021). The Global Startup Ecosystem Report 2021. https://startupgenome.com/reports/gser2021"
   ]
  },
  {
   "cell_type": "code",
   "execution_count": null,
   "id": "b7a12d25",
   "metadata": {
    "tags": [
     "hide-input"
    ]
   },
   "outputs": [],
   "source": [
    "# longitude & latitude for Ecosystems\n",
    "from geopy.geocoders import Nominatim\n",
    "geolocator = Nominatim(user_agent='598198nc@eur.nl')\n",
    "\n",
    "list_ecosystem = list(pd.read_excel(\"Secondary Data.xlsx\", sheet_name = 'Startup Ecosystem top 36 (21)')['Cities'])\n",
    "\n",
    "data = {'ecosystem': list_ecosystem}\n",
    "df_eco = pd.DataFrame(data)\n",
    "df_eco['city'] = ['San Francisco', 'New York City', 'London', 'Beijing', 'Boston', \n",
    "                  'Los Angeles', 'Tel Aviv', 'Shanghai', 'Tokyo', 'Seattle', 'Washington, D.C.', \n",
    "                  'Paris', 'Amsterdam', 'Toronto', 'Waterloo', 'Chicago', 'Seoul', 'Stockholm', \n",
    "                  'Singapore', 'Shenzhen', 'Austin', 'San Diego', 'Berlin', 'Bangalore', 'Sydney', \n",
    "                  'Hangzhou', 'Atlanta', 'Denver', 'Boulder', 'Philadelphia', 'Vancouver', \n",
    "                  'Salt Lake City', 'Provo', 'Dallas', 'Hong Kong', 'Montreal', 'Munich', \n",
    "                  'Sao Paulo', 'Geneva', 'Delhi', 'Dublin', 'Melbourne', 'Raleigh', 'Durham', \n",
    "                  'Chapel Hill']\n",
    "\n",
    "df_eco['Latitude'] = 0\n",
    "df_eco['Longitude'] = 0\n",
    "df_eco = df_eco.astype({'Latitude': 'float', 'Longitude': 'float'})\n",
    "\n",
    "for i in range(0, len(df_eco.index)):\n",
    "    loc = geolocator.geocode(df_eco.iloc[i]['city'])\n",
    "    df_eco.at[i,'Latitude'] = loc.latitude\n",
    "    df_eco.at[i,'Longitude'] = loc.longitude\n",
    "    \n",
    "countries = {}\n",
    "for country in pycountry.countries:\n",
    "    countries[country.alpha_3] = country.name\n",
    "dforg['country'] = [countries.get(country, 'Unknown code') for country in dforg['country_code']]\n",
    "df_country_count = dforg.groupby(['country']).size().reset_index(name='count')\n",
    "\n",
    "world_geo = r'custom.geo.json'\n",
    "with open(world_geo) as world_file:\n",
    "    world_json = json.load(world_file)\n",
    "\n",
    "countries_json = []\n",
    "for index in range(len(world_json['features'])):\n",
    "    countries_json.append(world_json['features'][index]['properties']['name'])\n",
    "\n",
    "for country in countries_json:\n",
    "    if country not in df_country_count['country']:\n",
    "        df_country_count.loc[df_country_count.shape[0]] = [country, 0]\n",
    "\n",
    "df_country_count = df_country_count.drop_duplicates(subset=['country'], keep='first')\n",
    "        \n",
    "df_country_count['log_count'] = np.log2(df_country_count['count'])\n",
    "df_country_count = df_country_count.replace(-float('inf'), 0)\n",
    "\n",
    "world_map= folium.Map(location=[20, 7], zoom_start = 2, tiles=\"cartodbpositron\")\n",
    "\n",
    "world_map.choropleth(\n",
    "    geo_data=world_geo,\n",
    "    data=df_country_count,\n",
    "    columns=['country', 'log_count'],\n",
    "    key_on='feature.properties.name',\n",
    "    fill_color='Greys', \n",
    "    fill_opacity=0.7, \n",
    "    line_opacity=1,\n",
    "    legend_name='Log Startup Count',\n",
    "    smooth_factor=0)\n",
    "\n",
    "from folium.plugins import MarkerCluster\n",
    "marker_cluster = MarkerCluster().add_to(world_map)\n",
    "#for each coordinate, create circlemarker of user percent\n",
    "for i in range(len(df_eco)):\n",
    "        lat = df_eco.iloc[i]['Latitude']\n",
    "        long = df_eco.iloc[i]['Longitude']\n",
    "        folium.CircleMarker(location = [lat, long], \n",
    "                            radius=5, \n",
    "                            fill =True,\n",
    "                            popup= df_eco.iloc[i]['ecosystem'],\n",
    "                            color='red',\n",
    "                            fill_color='tomato',\n",
    "                            fill_opacity=0.5).add_to(marker_cluster)\n",
    "\n",
    "world_map"
   ]
  },
  {
   "cell_type": "markdown",
   "id": "0b629819",
   "metadata": {},
   "source": [
    "#### Operating Status By Founding Year"
   ]
  },
  {
   "cell_type": "markdown",
   "id": "1d5dec91",
   "metadata": {},
   "source": [
    "###### Growing number of startups\n",
    "The plot clearly shows an increasing trend in the number of startups which are founded each year over the course of 1995-2012. The Global Startup Ecosystem Report of 2015 from Startup Genome, gives four reasons for this rapid growth in startups: 1) starting a startup has become a lot cheaper, which enables a more people to follow an entrepreneurial dream, 2) the decrease in capital needed to finance a startup has stimulated a wider variety of investors, thereby increasing a startup's chance to gain funding, 3) over time entrepreneurship has expanded its own category in management science, therefore establishing a better understanding of how to successfully run a startup, 4) due to developments in technology over the past centuries, the speed with which consumers adapt to new techonologies has increased, thereby enabling and stimulating more disruptive innovations, which are often associated with startups. \n",
    "##### Startup Genome. (2015, July). Global Startup Ecosystem Report 2015. https://startupgenome.com/reports/global-startup-ecosystem-report-2015\n",
    "###### Decrease of startups around 2013-2014 \n",
    "The decrease in startups around 2013 and 2014 can potentially originate from the data collection process. We susspect that the provided datasets might originate from a startup database platform like Crunchbase, which are dependend on the self-reported information of startups. As many founders first need approximately one to three years before fully commiting to their startup, they are often not directly focussed on registrating their startup on a startup database platform, such as Crunchbase. Therefore, eventhough a startup was founded in 2013, it might not be registered on a website such as Crunchbase, untill a few years later. \n",
    "###### Improportional growth of closed and acquired startups\n",
    "Two reasons for the improportional growth of closed and acquired startups compared to the increase in operating startups, are: 1) As the horizontal axis of the plot is the founding year of the startup, and the data has been retreived in 2015, it makes sense that we have less acquired startups in the years from 2010-2015, as young startups of age 1-5 years are acquired less, due to a lack of establishment and stability. Additionally, 2) it might not be a highest priority of a founder or Top Management Team (TMT) to update their information on a website like Crunchbase once their company has been acquired, or has folded. Therefore, explaining why more recent acquisitions and closes might be less captured by recent data. "
   ]
  },
  {
   "cell_type": "code",
   "execution_count": null,
   "id": "eaa79193",
   "metadata": {
    "tags": [
     "hide-input"
    ]
   },
   "outputs": [],
   "source": [
    "# Creating a dataframe of the status of operations of all startups grouped by the year of founding\n",
    "YFU = dforg.groupby('founding_year')['Unknown'].sum()\n",
    "YFA = dforg.groupby('founding_year')['acquired'].sum()\n",
    "YFC = dforg.groupby('founding_year')['closed'].sum()\n",
    "YFO = dforg.groupby('founding_year')['operating'].sum()\n",
    "\n",
    "YFBreakdown = pd.concat([YFU,YFA,YFC,YFO],axis=1).reset_index()\n",
    "\n",
    "# Creating a cumulative line chart of the distribution of startup statuses between 1990 and 2015\n",
    "# Creating a stacked bar chart of the operational status for startups by founding year dataframe\n",
    "YFBreakdown.plot.bar(x = 'founding_year', stacked=True, \n",
    "                          ylabel = 'Startup Status Count', \n",
    "                          xlabel = 'Year of Founding',\n",
    "                          title  = 'Number of Startups Per Status Per Founding Year',\n",
    "                          fontsize = 12, grid = True, figsize=(8, 6),\n",
    "                          color = ['darkgrey', 'Crimson', 'tomato', 'lightpink'])\n",
    "plt.xticks(rotation=75);"
   ]
  },
  {
   "cell_type": "markdown",
   "id": "4eb87ea0",
   "metadata": {},
   "source": [
    "#### Evolution of Total Funding"
   ]
  },
  {
   "cell_type": "markdown",
   "id": "399c50d8",
   "metadata": {},
   "source": [
    "###### General Trend\n",
    "The trend of total funding, for the years in which startups receive their last funding, is not obvious to interpret. Nevertheless, based on the current trend of total funding: startups receiving over 643 billion USD of funding during the year 2021 (Teare, 2022), an almost doubling of that of 2020, we could interpret the trend below as a positive one. \n",
    "##### Teare, G. (2022, January 21). Global Venture Funding And Unicorn Creation In 2021 Shattered All. . . Crunchbase News. https://news.crunchbase.com/news/global-vc-funding-unicorns-2021-monthly-recap/\n",
    "\n",
    "###### The Dotcom Bubble\n",
    "The trendline between 1996 and 2002 poses most issues to our interpretation of the overall trendline. However, the observed trends can be easily explained by the Dotcom Bubble. The Dotcom bubble was a stock market bubble caused by speculation in internet-based businesses during which \"the Internet sector earned over 1000% returns on its public equity\" (Ofek & Richardson, 2003). However, these returns also dissapeared soon after when the Dotcom Bubble bursted. The Dotcom bubble is probably one of the causes of the trendline disruption around 2000. \n",
    "##### Ofek, E., & Richardson, M. (2003). DotCom Mania: The Rise and Fall of Internet Stock Prices. The Journal of Finance, 58(3), 1113–1137. https://doi.org/10.1111/1540-6261.00560"
   ]
  },
  {
   "cell_type": "code",
   "execution_count": null,
   "id": "22e41d16",
   "metadata": {
    "tags": [
     "hide-input"
    ]
   },
   "outputs": [],
   "source": [
    "# Line chart to display the average total funding per year in which startups received their last funding between 1995-2015\n",
    "TotFunperFUNL = dforg.groupby('last_funding_year')['funding_total_usd'].mean().astype(int)\n",
    "TotFunperFUNL.index.astype(str)\n",
    "\n",
    "TotFunperFUNL.plot(xlabel = 'Year of Last Funding',\n",
    "                ylabel = 'Average Total Funding in USD',\n",
    "                title = 'Average Total Funding \\n (Per Year of Last Funding)',figsize=(8, 6))\n",
    "plt.gca().xaxis.set_major_formatter(StrMethodFormatter('{x:.0f}'))\n",
    "plt.xlim(1995, 2014)\n",
    "plt.xticks(rotation=45);"
   ]
  },
  {
   "cell_type": "markdown",
   "id": "10279f99",
   "metadata": {},
   "source": [
    "#### Evolution of Funding Time"
   ]
  },
  {
   "cell_type": "markdown",
   "id": "19379cf5",
   "metadata": {},
   "source": [
    "###### General Trend\n",
    "Below, the trend of days between funding rounds, for startups which had more than one funding round, is visualised. The general trend shows a clear decrease in average time between funding rounds. This might indicate that the funding process has sped up a lot compared to earlier decades. An article in Forbes from 2019 (Cremades, 2019) said that on average it takes a startup between 12 and 20 months to establish a new funding round. The strongly declining days between funding rounds should therefore be taken with a grain of salt. Additionally, it should be noted that the increase in average days between funding rounds between 1995 and 1997 might be the result of highly varying number of companies which achieved multiple funding rounds between 1195 and 1997.\n",
    "##### Cremades, A. (2019, January 3). How Long It Takes To Raise Capital For A Startup. Forbes. https://www.forbes.com/sites/alejandrocremades/2019/01/03/how-long-it-takes-to-raise-capital-for-a-startup/?sh=6dc37bc67a41"
   ]
  },
  {
   "cell_type": "code",
   "execution_count": null,
   "id": "e303cd58",
   "metadata": {
    "tags": [
     "hide-input"
    ]
   },
   "outputs": [],
   "source": [
    "# Line chart to display the number of days between funding rounds between 1995-2015\n",
    "dforg2 = dforg[dforg['funding_rounds']>1]\n",
    "daysperFUNF = dforg2.groupby('first_funding_year')['DaysPerRound'].mean().astype(int)\n",
    "daysperFUNF.index.astype(str)\n",
    "\n",
    "daysperFUNF.plot(xlabel = 'Year of First Funding',\n",
    "                ylabel = 'Average Days Per Funding Round',\n",
    "                title = 'Average Days Between Funding Rounds \\n (Per Year of First Funding)',figsize=(8, 6))\n",
    "plt.gca().xaxis.set_major_formatter(StrMethodFormatter('{x:.0f}'))\n",
    "plt.xticks(rotation=45);"
   ]
  },
  {
   "cell_type": "markdown",
   "id": "f81059d9",
   "metadata": {},
   "source": [
    "#### Pressence of Investor Types in Funding Rounds"
   ]
  },
  {
   "cell_type": "markdown",
   "id": "e54088d8",
   "metadata": {},
   "source": [
    "A clear increasing trend of funding rounds is shown below, only experiencing a small drop around 2008 which can be explained by the financial crisis. Additionally, the pressence of all types of investors (either only venture investors, angel investors, or a mix of angel and venture investors) has increased over the years. This can be explained by the Global Startup Ecosystem Report of 2015, which states that the decrease in capital needed to finance a startup has stimulated a wider variety of investors.\n",
    "##### Startup Genome. (2015, July). Global Startup Ecosystem Report 2015. https://startupgenome.com/reports/global-startup-ecosystem-report-2015"
   ]
  },
  {
   "cell_type": "code",
   "execution_count": null,
   "id": "c0b6532e",
   "metadata": {
    "tags": [
     "hide-input"
    ]
   },
   "outputs": [],
   "source": [
    "typeOrg = dfinv.groupby('funded_year')['organization'].sum()\n",
    "typeOrgPer = dfinv.groupby('funded_year')['organization,person'].sum()\n",
    "typePer = dfinv.groupby('funded_year')['person'].sum()\n",
    "InvBreakdown = pd.concat([typeOrg, typeOrgPer, typePer], axis = 1).reset_index()\n",
    "InvBreakdown.plot.bar(x = 'funded_year', stacked=True, \n",
    "                          ylabel = 'Number of funding rounds', \n",
    "                          xlabel = 'Year of funding',\n",
    "                          color = ['lightpink', 'tomato', 'Crimson'],\n",
    "                          title  = 'Pressence of Investor Types per Funding Round',\n",
    "                          fontsize = 12, grid = True,figsize=(8, 6))\n",
    "plt.legend(title = 'Investor type', labels = ['Venture', 'Venture & Angel', 'Angel']);\n",
    "plt.xticks(rotation=50);"
   ]
  },
  {
   "cell_type": "markdown",
   "id": "8ec99f33",
   "metadata": {},
   "source": [
    "#### Evolution of Acquisitions"
   ]
  },
  {
   "cell_type": "markdown",
   "id": "02db5ea2",
   "metadata": {},
   "source": [
    "The number of acquisitions has been very low over the first years of our research timeframe. Around 2003, the number of acquisitions increases with a slight setback around the financial crisis in 2008 and a bigger drop around 2012. In 2011, a specialist on mergers and acquisitions issues, Paul Parker, was quoted by researchers: “Prospects for 2012 are grim. Either there will be a stabilization of the European [debt] crisis and a recovery of the merging activity, or deterioration and an even worse situation” (Triantafyllopoulos & Mpourletidis, 2014). This might provide an explanation for the drop in acquisitions around 2012. \n",
    "##### Triantafyllopoulos, Y., & Mpourletidis, K. (2014). Mergers and Acquisitions and Economic Crisis. A Case Study Approach from a Qualitative Analysis in Greece. Procedia - Social and Behavioral Sciences, 148, 437–445. https://doi.org/10.1016/j.sbspro.2014.07.063"
   ]
  },
  {
   "cell_type": "code",
   "execution_count": null,
   "id": "9ea03faa",
   "metadata": {
    "tags": [
     "hide-input"
    ]
   },
   "outputs": [],
   "source": [
    "dfacq.groupby('acquired_year')['price_amount'].count().plot(title='Number of Acquisitions per Year',figsize=(8, 6),\n",
    "                                                           xlabel = 'Year of Acquisition', ylabel = 'Count of Acquisitions');\n",
    "plt.gca().xaxis.set_major_formatter(StrMethodFormatter('{x:.0f}'))\n",
    "plt.xticks(rotation=45);"
   ]
  },
  {
   "cell_type": "markdown",
   "id": "9084ae2c",
   "metadata": {},
   "source": [
    "## Market Trends"
   ]
  },
  {
   "cell_type": "markdown",
   "id": "24094bfb",
   "metadata": {},
   "source": [
    "#### Top 10 Markets by Average Total Funding"
   ]
  },
  {
   "cell_type": "markdown",
   "id": "6d8b93b3",
   "metadata": {},
   "source": [
    "Below are three plots on the top 10 markets by average total funding, each for a different period in which startups are founded. The first thing which may grab your attention is the diversity of markets which are featured by the top 10 in each plot. The only two markets which are featured twice are the Oil & Gas market and the Solar market. Nevertheless, different overarching market categories can be defined, such as Energy, Technology and Media, which are well represented in each plot. "
   ]
  },
  {
   "cell_type": "code",
   "execution_count": null,
   "id": "3f8fbf03",
   "metadata": {
    "tags": [
     "hide-input"
    ]
   },
   "outputs": [],
   "source": [
    "# Create founding decades\n",
    "dforg['DecadeFOU'] = (dforg['founding_year']//10)*10\n",
    "dfacq['Decade'] = (dfacq['acquired_year']//10)*10\n",
    "\n",
    "# Change column to numeric\n",
    "dforg['funding_total_usd'] = pd.to_numeric(dforg['funding_total_usd'])\n",
    "dforg['market'] = dforg['market'].astype(str)\n",
    "\n",
    "# Change similar market\n",
    "dforg['market'].replace(' Oil and Gas ', ' Oil & Gas ', inplace = True)\n",
    "\n",
    "# Create all necessary dataframes\n",
    "dforgMarkets = dforg.groupby(['market','DecadeFOU'], as_index = False)['funding_total_usd'].mean()\n",
    "dforgMarkets1990 = dforgMarkets[dforgMarkets['DecadeFOU'] == 1990].nlargest(n=10, columns = ['funding_total_usd']).drop('DecadeFOU', axis = 1)\n",
    "dforgMarkets2000 = dforgMarkets[dforgMarkets['DecadeFOU'] == 2000].nlargest(n=10, columns = ['funding_total_usd']).drop('DecadeFOU', axis = 1)\n",
    "dforgMarkets2010 = dforgMarkets[dforgMarkets['DecadeFOU'] == 2010].nlargest(n=10, columns = ['funding_total_usd']).drop('DecadeFOU', axis = 1)\n",
    "\n",
    "#Create a plot for 1995-2000\n",
    "labels = dforgMarkets1990['market'].to_list()\n",
    "percentages = dforgMarkets1990['funding_total_usd'].to_numpy()*100/dforgMarkets1990['funding_total_usd'].to_numpy().sum()\n",
    "dforgMarkets1990.plot.pie(y= 'funding_total_usd',\n",
    "                          figsize=(5, 5),\n",
    "                          title = \"Top 10 Funded Markets 1995-2000\", labels = None,\n",
    "                          ylabel = 'Share of Average Total Funding',\n",
    "                          colors = ['black', 'grey','darkgrey', 'lightgrey', 'whitesmoke', \n",
    "                                    'mistyrose', 'lightpink', 'tomato', 'red', 'darkred'])\n",
    "plt.legend(bbox_to_anchor=(1.7,0.9), loc='upper right', title = 'Market',\n",
    "            labels=['%s, %1.1f %%' % (l, s) for l, s in zip(labels,percentages)])\n",
    "my_circle=plt.Circle( (0,0), 0.5, color='white')\n",
    "p=plt.gcf()\n",
    "p.gca().add_artist(my_circle)\n",
    "\n",
    "#Create a plot for 1995-2000\n",
    "labels = dforgMarkets2000['market'].to_list()\n",
    "percentages = dforgMarkets2000['funding_total_usd'].to_numpy()*100/dforgMarkets2000['funding_total_usd'].to_numpy().sum()\n",
    "dforgMarkets2000.plot.pie(y= 'funding_total_usd',\n",
    "                          figsize=(5, 5),\n",
    "                          title = \"Top 10 Funded Markets 2000-2010\", labels = None,\n",
    "                         ylabel = 'Share of Average Total Funding',\n",
    "                          colors = ['black', 'grey','darkgrey', 'lightgrey', 'whitesmoke', \n",
    "                                    'mistyrose', 'lightpink', 'tomato', 'red', 'darkred'])\n",
    "plt.legend(bbox_to_anchor=(1.7,0.9), loc='upper right', title = 'Market',\n",
    "            labels=['%s, %1.1f %%' % (l, s) for l, s in zip(labels,percentages)])\n",
    "my_circle=plt.Circle( (0,0), 0.5, color='white')\n",
    "p=plt.gcf()\n",
    "p.gca().add_artist(my_circle)\n",
    "\n",
    "#Create a plot for 1995-2000\n",
    "labels = dforgMarkets2010['market'].to_list()\n",
    "percentages = dforgMarkets2010['funding_total_usd'].to_numpy()*100/dforgMarkets2010['funding_total_usd'].to_numpy().sum()\n",
    "dforgMarkets2010.plot.pie(y= 'funding_total_usd',\n",
    "                          figsize=(5, 5),\n",
    "                          title = \"Top 10 Funded Markets 2010-2015\", labels = None,\n",
    "                         ylabel = 'Share of Average Total Funding',\n",
    "                          colors = ['black', 'grey','darkgrey', 'lightgrey', 'whitesmoke', \n",
    "                                    'mistyrose', 'lightpink', 'tomato', 'red', 'darkred'])\n",
    "plt.legend(bbox_to_anchor=(1.8,0.9), loc='upper right', title = 'Market',\n",
    "            labels=['%s, %1.1f %%' % (l, s) for l, s in zip(labels,percentages)])\n",
    "my_circle=plt.Circle( (0,0), 0.5, color='white')\n",
    "p=plt.gcf()\n",
    "p.gca().add_artist(my_circle);"
   ]
  },
  {
   "cell_type": "markdown",
   "id": "a45bc7be",
   "metadata": {},
   "source": [
    "#### Top 5 Funded Markets and Their Total Funding"
   ]
  },
  {
   "cell_type": "markdown",
   "id": "efc2ba8a",
   "metadata": {},
   "source": [
    "The plot below shows funding trendlines for the overall top 5 funded markets, which are Biotechnology, Curated Web, E-Commerce, Mobile and Software. We can see that the curated web market spiked for companies which were founded in 1998, which is probably caused by the Dotcom Bubble. The ecommerce market experienced peaks at 1995 and 1999, which may well be caused by the Dotcom Bubble as well. Howerver, the peak weak the ecommerce market experienced during 2007, might be better explained by the rise of big platforms such as Amazon, Facebook and eBay. The peak experienced by the Biotechnology market in 2007 could be a result of a major breakthrough in stamcell research, for which Mario R. Capecchi, Martin J. Evans and Oliver Smithies obtained a Nobel Prize. \n",
    "##### The Nobel Prize. (2007). The Nobel Prize in Physiology or Medicine 2007. NobelPrize.Org. https://www.nobelprize.org/prizes/medicine/2007/summary/"
   ]
  },
  {
   "cell_type": "code",
   "execution_count": null,
   "id": "92d0fc0d",
   "metadata": {
    "scrolled": true,
    "tags": [
     "hide-input"
    ]
   },
   "outputs": [],
   "source": [
    "# Create all necessary dataframes\n",
    "dforgMarketsCount = dforg.groupby('market', as_index = False)['funding_total_usd'].count()\n",
    "dforgMarketsAllTop5 = dforgMarketsCount.nlargest(n=5, columns = ['funding_total_usd'])\n",
    "dforgMarketsName = dforgMarketsAllTop5['market']\n",
    "dforgMarketsName.drop_duplicates(inplace = True)\n",
    "\n",
    "dforgMarketsCountAll = dforg.groupby(['market', 'founding_year'], as_index = False)['funding_total_usd'].mean()\n",
    "dforgMarketsCountAll = dforgMarketsCountAll.loc[dforgMarketsCountAll['market'].isin(dforgMarketsName)]\n",
    "dforgMarketsCountAll = dforgMarketsCountAll.pivot(index = 'founding_year', columns = 'market', values = 'funding_total_usd')\n",
    "\n",
    "dforgMarketsAvePlot = sns.relplot(estimator=None,\n",
    "                                    kind=\"line\", \n",
    "                                    height=5, \n",
    "                                    marker=\"o\", \n",
    "                                    legend = False,\n",
    "                                    dashes = False,\n",
    "                                    aspect=12/5,\n",
    "                                    palette = ['lightpink', 'red', 'firebrick','grey', 'black'],\n",
    "                                    data=dforgMarketsCountAll).set(xticks=dforgMarketsCountAll.index,\n",
    "                                                                   title='Average Funding per Year of the 5 Biggest Markets',\n",
    "                                                                  xlabel = 'Year of Founding', ylabel = 'Average Funding Amount in USD')\n",
    "plt.legend(title='Markets', labels = dforgMarketsCountAll.columns);\n",
    "plt.xticks(rotation=45);\n",
    "\n",
    "dforgMarketsAllCum = dforg.groupby(['market', 'founding_year'], as_index = False)['funding_total_usd'].sum()\n",
    "dforgMarketsAllCum = dforgMarketsAllCum.loc[dforgMarketsAllCum['market'].isin(dforgMarketsName)]\n",
    "dforgMarketsAllCum['CumSum'] = dforgMarketsAllCum.groupby(['market'], as_index = False)['funding_total_usd'].cumsum()\n",
    "\n",
    "dforgMarketsAllCum = dforgMarketsAllCum.pivot(index = 'founding_year', columns = 'market', values = 'CumSum')\n",
    "\n",
    "dforgMarketsCummPlot = sns.relplot(estimator=None,\n",
    "                                    kind=\"line\", \n",
    "                                    height=5, marker=\"o\", \n",
    "                                    legend = False,\n",
    "                                    dashes=False,aspect=12/5,\n",
    "                                    palette = ['lightpink', 'red', 'firebrick','grey', 'black'],\n",
    "                                    data=dforgMarketsAllCum).set(xticks=dforgMarketsAllCum.index,\n",
    "                                                                 title='Cumulative Sum of Funding per Year of the 5 Biggest Markets',\n",
    "                                                                xlabel = 'Year of Founding', ylabel = 'Cumulative Sum of Funding')\n",
    "plt.legend(title='Markets', labels = dforgMarketsAllCum.columns);\n",
    "plt.xticks(rotation=45);"
   ]
  },
  {
   "cell_type": "markdown",
   "id": "9ee8c8d5",
   "metadata": {},
   "source": [
    "#### Top 10 Markets by Average Investments"
   ]
  },
  {
   "cell_type": "markdown",
   "id": "eaad4854",
   "metadata": {},
   "source": [
    "Below are three plots on the top 10 markets by average investments, each for a different period of time. Once again, the diversity featured by the different plots is quite remarkable. However, energy markets are not featured by the presented top 10. Instead an overwheleming majority of top 10 markets is focussed on either techonology or media markets. The difference between the three plots on average total funding per founding period and the plots below clearly shows that the markets in which is most invested over the years, is not the same as the markets which established the highest overal funding. The investment context clearly plays an important role to pinpoint the biggest investment opportunities, whilst some investments, such as the ones shown below, might be a safer investment in general. "
   ]
  },
  {
   "cell_type": "code",
   "execution_count": null,
   "id": "280d046c",
   "metadata": {
    "tags": [
     "hide-input"
    ]
   },
   "outputs": [],
   "source": [
    "# Create all necessary dataframes\n",
    "dfinvMarkets = dfinv.groupby(['investor_market','funded_decade'], as_index = False)['amount_divided'].mean()\n",
    "dfinvMarkets1990 = dfinvMarkets[dfinvMarkets['funded_decade'] == 1990].nlargest(n=10, columns = ['amount_divided']).drop('funded_decade', axis = 1)\n",
    "dfinvMarkets2000 = dfinvMarkets[dfinvMarkets['funded_decade'] == 2000].nlargest(n=10, columns = ['amount_divided']).drop('funded_decade', axis = 1)\n",
    "dfinvMarkets2010 = dfinvMarkets[dfinvMarkets['funded_decade'] == 2010].nlargest(n=10, columns = ['amount_divided']).drop('funded_decade', axis = 1)\n",
    "\n",
    "labels = dfinvMarkets1990['investor_market'].to_list()\n",
    "percentages = dfinvMarkets1990['amount_divided'].to_numpy()*100/dfinvMarkets1990['amount_divided'].to_numpy().sum()\n",
    "\n",
    "dfinvMarkets1990.plot.pie(y= 'amount_divided',\n",
    "                          figsize=(5, 5),\n",
    "                          title = \"Top 10 Investor Markets 1995-2000\", labels = None,\n",
    "                          ylabel = 'Share of Total Investor Activity',\n",
    "                          colors = ['black', 'grey','darkgrey', 'lightgrey', 'whitesmoke', \n",
    "                                    'mistyrose', 'lightpink', 'tomato', 'red', 'darkred'])\n",
    "plt.legend(bbox_to_anchor=(1.75,0.9), loc='upper right', title = 'Market',\n",
    "            labels=['%s, %1.1f %%' % (l, s) for l, s in zip(labels,percentages)])\n",
    "my_circle=plt.Circle( (0,0), 0.5, color='white')\n",
    "p=plt.gcf()\n",
    "p.gca().add_artist(my_circle)\n",
    "\n",
    "labels = dfinvMarkets2000['investor_market'].to_list()\n",
    "percentages = dfinvMarkets2000['amount_divided'].to_numpy()*100/dfinvMarkets2000['amount_divided'].to_numpy().sum()\n",
    "\n",
    "dfinvMarkets2000.plot.pie(y= 'amount_divided',\n",
    "                          figsize=(5, 5),\n",
    "                          title = \"Top 10 Investor Markets 2000-2010\", labels = None,\n",
    "                          ylabel = 'Share of Total Investor Activity',\n",
    "                          colors = ['black', 'grey','darkgrey', 'lightgrey', 'whitesmoke', \n",
    "                                    'mistyrose', 'lightpink', 'tomato', 'red', 'darkred'])\n",
    "plt.legend(bbox_to_anchor=(1.7,0.9), loc='upper right', title = 'Market',\n",
    "            labels=['%s, %1.1f %%' % (l, s) for l, s in zip(labels,percentages)])\n",
    "my_circle=plt.Circle( (0,0), 0.5, color='white')\n",
    "p=plt.gcf()\n",
    "p.gca().add_artist(my_circle)\n",
    "\n",
    "labels = dfinvMarkets2010['investor_market'].to_list()\n",
    "percentages = dfinvMarkets2010['amount_divided'].to_numpy()*100/dfinvMarkets2010['amount_divided'].to_numpy().sum()\n",
    "\n",
    "dfinvMarkets2010.plot.pie(y= 'amount_divided',\n",
    "                          figsize=(5, 5),\n",
    "                          title = \"Top 10 Investor Markets 2010-2015\", labels = None,\n",
    "                          ylabel = 'Share of Total Investor Activity',\n",
    "                          colors = ['black', 'grey','darkgrey', 'lightgrey', 'whitesmoke', \n",
    "                                    'mistyrose', 'lightpink', 'tomato', 'red', 'darkred'])\n",
    "plt.legend(bbox_to_anchor=(1.7,0.9), loc='upper right', title = 'Market',\n",
    "            labels=['%s, %1.1f %%' % (l, s) for l, s in zip(labels,percentages)])\n",
    "my_circle=plt.Circle( (0,0), 0.5, color='white')\n",
    "p=plt.gcf()\n",
    "p.gca().add_artist(my_circle);"
   ]
  },
  {
   "cell_type": "markdown",
   "id": "84815d91",
   "metadata": {},
   "source": [
    "#### Top 10 Markets by Average Acquisition Expenditure"
   ]
  },
  {
   "cell_type": "markdown",
   "id": "60492dd2",
   "metadata": {},
   "source": [
    "Below are three plots on the top 10 markets by average acquisition amount, each for a different period of time. As, accoriding to our data, there were only two markets in which acquisition(s) took place between 1995 and 2000, Web-Hosting and E-Commerce make up for the top 10 in this period. For the periods which follow, we can distinguish that platform-based markets such as Social Network Media and Peer-to-Peer have played an important role in the world of acquisition. An example of such an acquisition is the that of Whatsapp, which Facebook acquired in 2014 for approximately 20 billion USD. "
   ]
  },
  {
   "cell_type": "code",
   "execution_count": null,
   "id": "317ee580",
   "metadata": {
    "tags": [
     "hide-input"
    ]
   },
   "outputs": [],
   "source": [
    "dfacqMarkets = dfacq.groupby(['company_market','Decade'], as_index = False)['price_amount_USD'].mean()\n",
    "dfacqMarkets1990 = dfacqMarkets[dfacqMarkets['Decade'] == 1990].nlargest(n=10, columns = ['price_amount_USD']).drop('Decade', axis = 1)\n",
    "dfacqMarkets2000 = dfacqMarkets[dfacqMarkets['Decade'] == 2000].nlargest(n=10, columns = ['price_amount_USD']).drop('Decade', axis = 1)\n",
    "dfacqMarkets2010 = dfacqMarkets[dfacqMarkets['Decade'] == 2010].nlargest(n=10, columns = ['price_amount_USD']).drop('Decade', axis = 1)\n",
    "\n",
    "#drop the Biotechnology Market as the price amount is not known\n",
    "dfacqMarkets1990 = dfacqMarkets1990.drop([31])\n",
    "labels = dfacqMarkets1990['company_market'].to_list()\n",
    "percentages = dfacqMarkets1990['price_amount_USD'].to_numpy()*100/dfacqMarkets1990['price_amount_USD'].to_numpy().sum()\n",
    "\n",
    "dfacqMarkets1990.plot.pie(y= 'price_amount_USD',\n",
    "                          figsize=(5, 5),\n",
    "                          title = \"Top 10 Acquisition Markets 1995-2000\", labels = None,\n",
    "                          ylabel = 'Share of Market by Acquisiton Expenditure',\n",
    "                          colors = ['black', 'grey','darkgrey', 'lightgrey', 'whitesmoke', \n",
    "                                    'mistyrose', 'lightpink', 'tomato', 'red', 'darkred'])\n",
    "plt.legend(bbox_to_anchor=(1.5,0.9), loc='upper right', title = 'Market',\n",
    "            labels=['%s, %1.1f %%' % (l, s) for l, s in zip(labels,percentages)])\n",
    "my_circle=plt.Circle( (0,0), 0.5, color='white')\n",
    "p=plt.gcf()\n",
    "p.gca().add_artist(my_circle)\n",
    "\n",
    "labels = dfacqMarkets2000['company_market'].to_list()\n",
    "percentages = dfacqMarkets2000['price_amount_USD'].to_numpy()*100/dfacqMarkets2000['price_amount_USD'].to_numpy().sum()\n",
    "\n",
    "dfacqMarkets2000.plot.pie(y= 'price_amount_USD',\n",
    "                          figsize=(5, 5),\n",
    "                          title = \"Top 10 Acquisition Markets 2000-2010\", labels = None,\n",
    "                          ylabel = 'Share of Market by Acquisiton Expenditure',\n",
    "                          colors = ['black', 'grey','darkgrey', 'lightgrey', 'whitesmoke', \n",
    "                                    'mistyrose', 'lightpink', 'tomato', 'red', 'darkred'])\n",
    "plt.legend(bbox_to_anchor=(1.7,0.9), loc='upper right', title = 'Market',\n",
    "            labels=['%s, %1.1f %%' % (l, s) for l, s in zip(labels,percentages)])\n",
    "my_circle=plt.Circle( (0,0), 0.5, color='white')\n",
    "p=plt.gcf()\n",
    "p.gca().add_artist(my_circle)\n",
    "\n",
    "labels = dfacqMarkets2010['company_market'].to_list()\n",
    "percentages = dfacqMarkets2010['price_amount_USD'].to_numpy()*100/dfacqMarkets2010['price_amount_USD'].to_numpy().sum()\n",
    "\n",
    "dfacqMarkets2010.plot.pie(y= 'price_amount_USD',\n",
    "                          figsize=(5, 5),\n",
    "                          title = \"Top 10 Acquisition Markets 2010-2015\", labels = None,\n",
    "                          ylabel = 'Share of Market by Acquisiton Expenditure',\n",
    "                          colors = ['black', 'grey','darkgrey', 'lightgrey', 'whitesmoke', \n",
    "                                    'mistyrose', 'lightpink', 'tomato', 'red', 'darkred'])\n",
    "plt.legend(bbox_to_anchor=(1.7,0.9), loc='upper right', title = 'Market',\n",
    "            labels=['%s, %1.1f %%' % (l, s) for l, s in zip(labels,percentages)])\n",
    "my_circle=plt.Circle( (0,0), 0.5, color='white')\n",
    "p=plt.gcf()\n",
    "p.gca().add_artist(my_circle);"
   ]
  },
  {
   "cell_type": "markdown",
   "id": "db650166",
   "metadata": {},
   "source": [
    "#### Top 5 Acquisition Markets and their Acquisition Expenditure"
   ]
  },
  {
   "cell_type": "markdown",
   "id": "0da72cac",
   "metadata": {},
   "source": [
    "The plot below shows acquisition trendlines for the overall top 5 acquisition markets, which are Biotechnology, Curated Web, Enterprise Software, Mobile and Software. When comparing this top 5 to that of total funding, we can see that four markets of the five are featured in each plot. This emphasises the importance and attractiveness of these markets to investors and acquirers. As acquisitions in the top 5 markets only took place from 2004 on, the plot also only includes years from 2004 on. The first peak we notice is that of the Mobile market at 2005, is caused by the acquisition of Skype by eBay, which was an expenditure of 2.6 billion USD. As this acquisition is the only one the Mobile market experienced in 2005, this acquisition causes a big peak in the average acquisition expenditure plot. The second peak which is experienced by the Mobile market is once again Skype. However this time, Skype was acquired from eBay by Microsoft for approximately 8.5 billion USD. Another noticeable peak is that of Curated Web in 2009. This peak was caused by Amazon acquiring Zappos, an online retailing company, for 1.2 billion USD. Important to note is that the aggregation to average acquisition expenditure might skew the perspective of how much total acquisition expenditure is spend per market. Therefore, we additionally added a trendline plot on the cumulative sum of acquisition expenditure. However, the number of acquisitions per year per market are not featured, so this should taken into consideration during interpretation. "
   ]
  },
  {
   "cell_type": "code",
   "execution_count": null,
   "id": "71344509",
   "metadata": {
    "tags": [
     "hide-input"
    ]
   },
   "outputs": [],
   "source": [
    "# Create all necessary dataframes\n",
    "dfacqMarketsCount = dfacq.groupby('company_market', as_index = False)['price_amount_USD'].count()\n",
    "dfacqMarketsAllTop5 = dfacqMarketsCount.nlargest(n=5, columns = ['price_amount_USD'])\n",
    "dfacqMarketsName = dfacqMarketsAllTop5['company_market']\n",
    "dfacqMarketsName.drop_duplicates(inplace = True)\n",
    "\n",
    "dfacqMarketsCountAll = dfacq.groupby(['company_market', 'acquired_year'], as_index = False)['price_amount_USD'].mean()\n",
    "dfacqMarketsCountAll = dfacqMarketsCountAll.loc[dfacqMarketsCountAll['company_market'].isin(dfacqMarketsName)]\n",
    "\n",
    "dfacqMarketsCountAll = dfacqMarketsCountAll.pivot(index = 'acquired_year', columns = 'company_market', values = 'price_amount_USD')\n",
    "\n",
    "dfacqMarketsCountAll = dfacqMarketsCountAll[dfacqMarketsCountAll.index > 2003]\n",
    "\n",
    "dfacqMarketsAvePlot = sns.relplot(estimator=None,\n",
    "                                    kind=\"line\", \n",
    "                                    height=5, \n",
    "                                    marker=\"o\", \n",
    "                                    legend = False,\n",
    "                                    dashes = False,\n",
    "                                    palette = ['lightpink', 'red', 'firebrick','grey', 'black'],\n",
    "                                    aspect=12/5,data=dfacqMarketsCountAll).set(xticks=dfacqMarketsCountAll.index,\n",
    "                                                                               title='Average Acquisition Expenditures of the 5 Biggest Markets',\n",
    "                                                                              xlabel = 'Year of Acquisition', ylabel ='Average Acquisition Expenditure in USD')\n",
    "plt.legend(title='Markets', labels = dfacqMarketsCountAll.columns);\n",
    "plt.xticks(rotation=45);\n",
    "\n",
    "dfacqMarketsAllCum = dfacq.groupby(['company_market', 'acquired_year'], as_index = False)['price_amount_USD'].sum()\n",
    "dfacqMarketsAllCum = dfacqMarketsAllCum.loc[dfacqMarketsAllCum['company_market'].isin(dfacqMarketsName)]\n",
    "dfacqMarketsAllCum['CumSum'] = dfacqMarketsAllCum.groupby(['company_market'], as_index = False)['price_amount_USD'].cumsum()\n",
    "\n",
    "dfacqMarketsAllCum = dfacqMarketsAllCum.pivot(index = 'acquired_year', columns = 'company_market', values = 'CumSum')\n",
    "\n",
    "dfacqMarketsAllCum = dfacqMarketsAllCum[dfacqMarketsAllCum.index > 2003]\n",
    "\n",
    "dfacqMarketsCummPlot = sns.relplot(estimator=None,\n",
    "                                    kind=\"line\", \n",
    "                                    height=5, \n",
    "                                    marker=\"o\",\n",
    "                                    legend = False,\n",
    "                                    dashes = False,\n",
    "                                    aspect=12/5,\n",
    "                                    palette = ['lightpink', 'red', 'firebrick','grey', 'black'],\n",
    "                                    data=dfacqMarketsAllCum).set(xticks=dfacqMarketsAllCum.index,\n",
    "                                                                 title='Cumulative Sum of Acquisition Expenditure of the 5 Biggest Markets',\n",
    "                                                                xlabel = 'Year of Acquisition', ylabel = 'Cumulative Acquisition Expenditure in USD')\n",
    "plt.legend(title='Markets', labels = dfacqMarketsAllCum.columns);\n",
    "plt.xticks(rotation=45);"
   ]
  },
  {
   "cell_type": "markdown",
   "id": "84a82cf5",
   "metadata": {},
   "source": [
    "## Country Trends"
   ]
  },
  {
   "cell_type": "markdown",
   "id": "c0ceabed",
   "metadata": {},
   "source": [
    "#### Investments"
   ]
  },
  {
   "cell_type": "markdown",
   "id": "c969522f",
   "metadata": {},
   "source": [
    "###### Dominance of American Investments\n",
    "It is commonly known that The United States of America has a vibrand startup economy. This is also visualised the the first plot below, showcasing the cumulitive investment of the top 5 highest investing countries, in which the USA displays its dominance. \n",
    "\n",
    "###### Investing Countries\n",
    "When we take the top 5 highest investing countries, aggregate the investments done by investors from these countries, and plot them per year, we get the trendlines as depicted in the second graph below. From this we can derive that in general, the American investors have always had relatively high average investments. However, we can also see that the investors from runner up countries, also do not have such low average investments compared to the USA. Nevertheless, these results should be interpeted with caution due to the influence of scarse sub-categories, as displayed by the peak of France at 2000, which is caused by the four investments of French investors, of which three were around the 40 thousand USD mark, causing a high peak which is not generalizable to the rest of the data.\n",
    "\n",
    "###### Receiving Countries\n",
    "In the third plot below, we see the average received investment of the top 5 most frequently receiving countries. When we compare the second and third plot, we can see that French investors invested a lot in startups which were not French, but were probably from the USA or Great Brittain. This is indeed the case, as three of the four investments, the ones mentioned above, are in American startups. Additionally, according to the data, Canadian startups did not receive investments before 2004, but Canadian investors did invest in startups from other countries. Once again, the plot should be interpeted with caution, as the peak from Great Brittain at 2002 is caused by a small amount of investments from which one amounts to 60 thousand USD. Thereby, causing the peak. "
   ]
  },
  {
   "cell_type": "code",
   "execution_count": null,
   "id": "6cdfd799",
   "metadata": {
    "tags": [
     "hide-input"
    ]
   },
   "outputs": [],
   "source": [
    "investor=pd.DataFrame(dfinv.groupby(['funded_year','investor_country_code'])['raised_amount_usd'].sum().reset_index(level=['funded_year','investor_country_code']))\n",
    "top5=pd.DataFrame(dfinv.groupby(['investor_country_code'])['raised_amount_usd'].count().sort_values(ascending=False).reset_index(level=['investor_country_code']).head(5))\n",
    "investor['cumsum']=pd.DataFrame(investor.groupby('investor_country_code')['raised_amount_usd'].transform('cumsum'))\n",
    "investor= investor[investor['investor_country_code'].isin(top5['investor_country_code'].to_list())].reset_index().rename(columns={'cumsum':'cumulative investment'})\n",
    "\n",
    "sns.relplot(x=\"funded_year\", y=\"cumulative investment\", \n",
    "            hue=\"investor_country_code\", \n",
    "            estimator=None,\n",
    "            kind=\"line\", height=5, marker=\"o\",\n",
    "            aspect=12/5,\n",
    "            palette = ['red', 'firebrick','lightpink', 'grey','black'],\n",
    "            data=investor).set(xticks=investor['funded_year'],\n",
    "            title='Cumulative Investment of the Top 5 Most Frequently Investing Countries',\n",
    "            xlabel = 'Year of Funding', \n",
    "            ylabel = 'Investments in USD')\n",
    "plt.xticks(rotation=45)\n",
    "ax = plt.gca()\n",
    "ax.set_xlim([1998.5, 2014.5]);\n",
    "\n",
    "investor=pd.DataFrame(dfinv.groupby(['funded_year','investor_country_code'])['raised_amount_usd'].mean().sort_values(ascending=False).reset_index(level=['funded_year','investor_country_code']))\n",
    "top5=pd.DataFrame(dfinv.groupby(['investor_country_code'])['raised_amount_usd'].count().sort_values(ascending=False).reset_index(level=['investor_country_code']).head(5))\n",
    "investor= investor[investor['investor_country_code'].isin(top5['investor_country_code'].to_list())]\n",
    "\n",
    "sns.relplot(x=\"funded_year\", y=\"raised_amount_usd\", \n",
    "            hue=\"investor_country_code\", estimator=None,\n",
    "            kind=\"line\", height=5, marker=\"o\",\n",
    "            aspect=12/5,\n",
    "            palette = ['lightpink', 'red', 'firebrick','grey', 'black'],\n",
    "            data=investor).set(xticks=investor['funded_year'],\n",
    "                               title='Average Investment of the Top 5 Most Frequently Investing Countries',\n",
    "                               xlabel = 'Year of Funding', ylabel = 'Funded Amount in USD')\n",
    "plt.xticks(rotation=45);\n",
    "\n",
    "investor=pd.DataFrame(dfinv.groupby(['funded_year','company_country_code'])['raised_amount_usd'].mean().sort_values(ascending=False).reset_index(level=['funded_year','company_country_code']))\n",
    "top5=pd.DataFrame(dfinv.groupby(['company_country_code'])['raised_amount_usd'].count().sort_values(ascending=False).reset_index(level=['company_country_code']).head(5))\n",
    "investor= investor[investor['company_country_code'].isin(top5['company_country_code'].to_list())]\n",
    "\n",
    "sns.relplot(x=\"funded_year\", y=\"raised_amount_usd\", \n",
    "            hue=\"company_country_code\", estimator=None,\n",
    "            kind=\"line\", height=5, marker=\"o\",aspect=12/5,\n",
    "            palette = ['grey', 'red', 'firebrick','black', 'lightpink'],\n",
    "            data=investor).set(xticks=investor['funded_year'],\n",
    "                               title='Average Received Investment of the Top 5 Most Frequently Receiving Countries',\n",
    "                               xlabel = 'Year of Funding', ylabel = 'Investments in USD')\n",
    "plt.xticks(rotation=45);"
   ]
  },
  {
   "cell_type": "markdown",
   "id": "3d9227fa",
   "metadata": {},
   "source": [
    "#### Acquisitions"
   ]
  },
  {
   "cell_type": "markdown",
   "id": "86bf4d44",
   "metadata": {},
   "source": [
    "###### Dominance of American Acquisitions\n",
    "Once again, The United States displays its dominance, but this time in its expenditure in acquisitions. This is visualised by the first plot below, showcasing the cumulitive acquisition expenditure of the top 5 highest acquiring countries. Additionally, it is interesting to note that eventhough the graphs x-axis starts at either 2004 or 2007, the acquisitions in the USA already started since 1996. However, due to the lack of American acquisitions during this period, the data strongly influenced the scale of the y-axis. Due to this reason we decided to minimise the x-axis to a scale appropriate for all the included countries. \n",
    "\n",
    "###### Acquiring Countries\n",
    "The second plot below shows the average acquisition expenditure of the top 5 most frequently acquiring countries. These incluede the USA, Great Brittain, Japan, China and Canada. The most interesting feature of this plot might be the simultaneous peak of China, Japan and Great Brittain in 2013. These peaks are caused by a total of twenty-four acquisition of which four were higher than 1 billion USD and seven were higher than 100 thousand USD.\n",
    "\n",
    "###### Acquired Countries\n",
    "The third plot below shows the average acquisition expenditure of the top 5 countries with most acquired startups. These incluede the USA, Great Brittain, Israel, China and Canada. When we compare the second and third plot, we can see more differences then when we compared the investor country and invested country plots from above. Eventhough Chineese startups were only acquired nine times according to our dataset, it still had a relatively high score in the countries with acquired startups. This is probably caused by the single peak China has at 2013, which represents an acquisition of 1.9 billion USD. "
   ]
  },
  {
   "cell_type": "code",
   "execution_count": null,
   "id": "df876376",
   "metadata": {
    "tags": [
     "hide-input"
    ]
   },
   "outputs": [],
   "source": [
    "acquisition=pd.DataFrame(dfacq.groupby(['acquired_year','acquirer_country_code'])['price_amount_USD'].sum().reset_index(level=['acquired_year','acquirer_country_code']))\n",
    "top5=pd.DataFrame(dfacq.groupby(['acquirer_country_code'])['price_amount_USD'].count().sort_values(ascending=False).reset_index(level=['acquirer_country_code']).head(5))\n",
    "acquisition['cumsum']=pd.DataFrame(acquisition.groupby('acquirer_country_code')['price_amount_USD'].transform('cumsum'))\n",
    "acquisition= acquisition[acquisition['acquirer_country_code'].isin(top5['acquirer_country_code'].to_list())].reset_index().rename(columns={'cumsum':'cumulative acquisition'})\n",
    "\n",
    "sns.relplot(x=\"acquired_year\", y=\"cumulative acquisition\", \n",
    "            hue=\"acquirer_country_code\", estimator=None, \n",
    "            kind=\"line\", height=5, marker=\"o\",aspect=12/5,\n",
    "            palette = ['red', 'firebrick','grey', 'black', 'lightpink'],\n",
    "            data=acquisition).set(xticks=acquisition['acquired_year'],\n",
    "                                  title='Cumulative Acquisition Amounts of the Top 5 Most Frequently Acquiring Countries',\n",
    "                                  xlabel = 'Acquisition Year', ylabel = 'Acquisition Expenditure in USD')\n",
    "plt.xticks(rotation=45)\n",
    "ax = plt.gca()\n",
    "ax.set_xlim([2006.5, 2014.5]);\n",
    "\n",
    "acquisition=pd.DataFrame(dfacq.groupby(['acquired_year','acquirer_country_code'])['price_amount_USD'].mean().sort_values(ascending=False).reset_index(level=['acquired_year','acquirer_country_code']))\n",
    "top5=pd.DataFrame(dfacq.groupby(['acquirer_country_code'])['price_amount_USD'].count().sort_values(ascending=False).reset_index(level=['acquirer_country_code']).head(5))\n",
    "acquisition= acquisition[acquisition['acquirer_country_code'].isin(top5['acquirer_country_code'].to_list())]\n",
    "\n",
    "sns.relplot(x=\"acquired_year\", y=\"price_amount_USD\", \n",
    "            hue=\"acquirer_country_code\", estimator=None, \n",
    "            kind=\"line\", height=5, marker=\"o\",aspect=12/5,\n",
    "            palette = ['red', 'grey', 'black','lightpink', 'firebrick'],\n",
    "            data=acquisition).set(xticks=acquisition['acquired_year'],\n",
    "                                  title='Average Acquisition Amounts of the Top 5 Most Frequently Acquiring Countries',\n",
    "                                  xlabel = 'Acquisition Year', ylabel = 'Acquisition Expenditure in USD')\n",
    "plt.xticks(rotation=45)\n",
    "ax = plt.gca()\n",
    "ax.set_xlim([2006.5, 2014.5])\n",
    "ax.set_ylim([None, 850000000]);\n",
    "\n",
    "acquisition=pd.DataFrame(dfacq.groupby(['acquired_year','company_country_code'])['price_amount_USD'].mean().sort_values(ascending=False).reset_index(level=['acquired_year','company_country_code']))\n",
    "top5=pd.DataFrame(dfacq.groupby(['company_country_code'])['price_amount_USD'].count().sort_values(ascending=False).reset_index(level=['company_country_code']).head(5))\n",
    "acquisition= acquisition[acquisition['company_country_code'].isin(top5['company_country_code'].to_list())]\n",
    "\n",
    "sns.relplot(x=\"acquired_year\", y=\"price_amount_USD\", \n",
    "            hue=\"company_country_code\", estimator=None,\n",
    "            kind=\"line\", height=5, marker=\"o\",aspect=12/5,\n",
    "            palette = ['red', 'lightpink', 'grey','firebrick', 'black'],\n",
    "            data=acquisition).set(xticks=acquisition['acquired_year'],\n",
    "                                  title='Average Acquisition Amounts of the Top 5 Countries with Most Acquired Startups',\n",
    "                                  xlabel = 'Acquisition Year', ylabel = 'Acquisition Expenditure in USD')\n",
    "plt.xticks(rotation=45)\n",
    "ax = plt.gca()\n",
    "ax.set_xlim([2003.5, 2014.5])\n",
    "ax.set_ylim([None, 850000000]);"
   ]
  },
  {
   "cell_type": "markdown",
   "id": "4caec993",
   "metadata": {},
   "source": [
    "## Domain Trends\n",
    "As each startup in the provided dataset had a domain, we decided to also focus some of our efforts on its trends, especially considering earlier foundings and influence of the Dotcom Bubble. "
   ]
  },
  {
   "cell_type": "markdown",
   "id": "d6a8fc5c",
   "metadata": {},
   "source": [
    "#### Domain Extensions"
   ]
  },
  {
   "cell_type": "markdown",
   "id": "f5d0bccd",
   "metadata": {},
   "source": [
    "###### Domain Shares\n",
    "First of all, it is interesting to look at the shares of different domains featured in our dataset. Below, an overview of the top 10 domains is desplayed. An overwhelming majority has a '.com' domain, followed by smaller less featured domains or no domains at all. It is also interesting to note that many domains are country or region bounded, thereby indicating in what specific geographic market a certain startup is active. \n",
    "\n",
    "###### Domain Growth\n",
    "Based on the visualized top 10, we decided to take a closer look at the trendline of the top 6. From this we can derive that the '.com' domain has been a favourite for many years. To clarify the drop in domains in the last years ascending to 2015, it is best to reference to our possible explanations on the drop of startup counts in general for the years 2012, 2013 and 2014. "
   ]
  },
  {
   "cell_type": "code",
   "execution_count": null,
   "id": "1367f24c",
   "metadata": {
    "tags": [
     "hide-input"
    ]
   },
   "outputs": [],
   "source": [
    "# We create a view of the top 20 and top 10 domains by frequency of occurrence in the dataframe\n",
    "topdoms = dforg['Domains'].value_counts().head(20)\n",
    "topdoms10 = dforg['Domains'].value_counts().head(10)\n",
    "\n",
    "# Plotting the data in a pie chart\n",
    "labels = topdoms10.index.to_list()\n",
    "percentages = topdoms10.to_numpy()*100/topdoms10.to_numpy().sum()\n",
    "\n",
    "topdoms10.plot.pie(y= 'count',\n",
    "                          figsize=(5, 5),\n",
    "                          title = 'Share of Domains for All Startups', labels = None,\n",
    "                          colors = ['black', 'grey','darkgrey','lightgrey', 'whitesmoke', 'mistyrose', \n",
    "                                    'lightpink','tomato','red', 'darkred'])\n",
    "plt.legend(bbox_to_anchor=(1.7,0.9), loc='upper right', title = 'Domains',\n",
    "           labels=['%s, %1.1f %%' % (l, s) for l, s in zip(labels,percentages)])\n",
    "my_circle=plt.Circle( (0,0), 0.5, color='white')\n",
    "p=plt.gcf()\n",
    "p.gca().add_artist(my_circle);\n",
    "\n",
    "# Create all necessary dataframes\n",
    "topdom = dforg['Domains'].value_counts().head(20)\n",
    "topdom20 = topdom.nlargest(n=6)\n",
    "topdom20names = topdom20.index\n",
    "top20domyear = dforg.groupby(['founding_year','Domains'], as_index = False)['Domains'].size()\n",
    "top20domyearAll = top20domyear.loc[top20domyear['Domains'].isin(topdom20names)]\n",
    "top20domyearAll = top20domyearAll.pivot(index = 'founding_year', columns = 'Domains', values = 'size')\n",
    "\n",
    "# Plotting the aforementioned series in a bar chart to show domains with the largest average funding in USD\n",
    "top20domPlot = sns.relplot(estimator=None,\n",
    "                                    kind=\"line\", \n",
    "                                    height=6, \n",
    "                                    marker=\"o\", \n",
    "                                    legend = False,\n",
    "                                    dashes = False,\n",
    "                                    aspect=11/5,\n",
    "                                    palette = ['lightgrey', 'darkgrey', 'black','firebrick','red', 'lightpink'],\n",
    "                                    data=top20domyearAll).set(xticks=top20domyearAll.index,\n",
    "                                                                   title='Top 6 Frequently Occuring Domains and their Registraions')\n",
    "plt.xticks(rotation=45);\n",
    "top20domPlot.set_ylabels('Number of Domain Registrations')\n",
    "top20domPlot.set_xlabels('Founding Year')\n",
    "plt.legend(title='Domains', labels = top20domyearAll.columns);"
   ]
  },
  {
   "cell_type": "markdown",
   "id": "54e2153b",
   "metadata": {},
   "source": [
    "###### Top 10 Domains by Sum of Total Funding\n",
    "Due to the popularity of the '.com' domain, it makes sense that the sum of total funding for the '.com' domain is a lot higher than that of other domains.\n",
    "\n",
    "###### Top 20 Frequently Occurring Domains and their Average Total Funding\n",
    "When considering the average total funding for the top 20 most occuring domains, it is interesting to note that, as there are a lot of '.com' domains used by startups, it also decreases the average total funding of startups with a '.com' domain. In this case, we see that country based domains such as '.ru', which corresponds to Russia, and '.de', which corresponds to Germany, score relatively high due to a more minimal user base. \n",
    "\n",
    "###### Top 20 Domains By Average Total Funding\n",
    "When we only take into consideration the average total funding, we can see that less popular domains play a more important role. This can be a result from the lack of startups in the dataset with such a domain, therefore strongly increasing the average total funding."
   ]
  },
  {
   "cell_type": "code",
   "execution_count": null,
   "id": "b36223aa",
   "metadata": {
    "tags": [
     "hide-input"
    ]
   },
   "outputs": [],
   "source": [
    "# Creating a series that shows the top 10 domains with the highest sum of funding in our dforg dataframe\n",
    "sortfundsum = dforg.groupby('Domains')['funding_total_usd'].sum().sort_values(ascending=False).head(10)\n",
    "\n",
    "# Plotting the aforementioned series in a bar chart to show domains with the largest average funding in USD\n",
    "sortfundsum.reset_index().plot(x = 'Domains', y='funding_total_usd', kind='bar', \n",
    "                          ylabel = 'Total Funding Received in USD', \n",
    "                          xlabel = 'Top-Level Domain of Startups ',\n",
    "                            title = 'Sum of Funding in USD Per Domain for Top 10 Domains',\n",
    "                         fontsize = 12, grid = True, figsize=(10, 6));\n",
    "\n",
    "# Creating a dataframe that shows the top domains by frequency of occurrence paired with the average\n",
    "# total funding in USD startups with these domains have received\n",
    "fund = dforg.groupby('Domains')['funding_total_usd'].mean()\n",
    "result = pd.merge(topdoms,fund, left_index=True, right_index=True).sort_values(ascending=False, by=['funding_total_usd'])\n",
    "\n",
    "# Plotting the values from the previous dataframe in a bar chart\n",
    "result.reset_index().plot(x = 'index', y='funding_total_usd', kind='bar', \n",
    "                          ylabel = 'Total Funding Received in USD', \n",
    "                          xlabel = 'Top-Level Domain of Startups',\n",
    "                          title = 'Average Total Funding Top 20 Most Frequent Domains',\n",
    "                         fontsize = 12, grid = True, figsize=(8, 6));\n",
    "\n",
    "# Creating a series that shows the top 20 domains with the highest average funding in our dforg dataframe\n",
    "sortfund = dforg.groupby('Domains')['funding_total_usd'].mean().sort_values(ascending=False).head(20)\n",
    "\n",
    "# Plotting the aforementioned series in a bar chart to show domains with the largest average funding in USD\n",
    "sortfund.reset_index().plot(x = 'Domains', y='funding_total_usd', kind='bar', \n",
    "                          ylabel = 'Total Funding Received in USD', \n",
    "                          xlabel = 'Top-Level Domain of Startups ',\n",
    "                            title = 'Average Total Funding for Top 20 Domains',\n",
    "                         fontsize = 12, grid = True, figsize=(10, 6));"
   ]
  },
  {
   "cell_type": "markdown",
   "id": "02688988",
   "metadata": {},
   "source": [
    "###### Top 6 Highest Funded Domains and Their Average Total Funding\n",
    "As explained previously, the first plot below is influenced a lot by the number of occurances that a domain has in the dataset, this should be taken into consideration during interpretation. However, the peak of '.ru' at 2004 is worth the investigation. It turns out that there was only one startup in the dataset which was founded in 2004 and had a '.ru' domain, which solely acounted for a total funding of 625 thousand USD. With similar reasoning, the peak from the '.org' domain at 2001 can be explained: there were five startups founded in 2001 with the '.org' domain, of which one had a total funding of 1.2 billion USD. This is once more a reminder to be cautious when interpreting graphs of relatively sparse sub-categorizations.\n",
    "\n",
    "###### Top 6 Highest Funded Domains and Their Sum of Total Funding\n",
    "To put into perspective how decieving the previous plot can be, we also included the the same variables, but instead of plotting the average total funding, we plotted the sum of total funding. from this it quickly becomes clear how minimal the interpreted trends of the previous plot are. From this plot we can however see a decreasing trend in the total funding of the '.com' domain since 2007. We should leave the years 2012, 2013 and 2014 out of this interpretation, due to the decrease in startups in the dataset for these years. "
   ]
  },
  {
   "cell_type": "code",
   "execution_count": null,
   "id": "52f757b9",
   "metadata": {},
   "outputs": [],
   "source": [
    "#Create all necessary dataframes\n",
    "topfunddom = dforg.groupby('Domains', as_index = False)['funding_total_usd'].sum()\n",
    "topfunddom20 = topfunddom.nlargest(n=6, columns = ['funding_total_usd'])\n",
    "topfunddom20names = topfunddom20['Domains']\n",
    "topfunddom20names.drop_duplicates(inplace = True)\n",
    "top20funddomyear = dforg.groupby(['Domains', 'founding_year'], as_index = False)['funding_total_usd'].mean()\n",
    "top20funddomyearAll = top20funddomyear.loc[top20funddomyear['Domains'].isin(topfunddom20names)]\n",
    "top20funddomyearAll = top20funddomyearAll.pivot(index = 'founding_year', columns = 'Domains', values = 'funding_total_usd')\n",
    "\n",
    "# Plotting the aforementioned series in a bar chart to show domains with the largest average funding in USD\n",
    "top20funddomPlot = sns.relplot(estimator=None,\n",
    "                                    kind=\"line\", \n",
    "                                    height=6, \n",
    "                                    marker=\"o\", \n",
    "                                    legend = False,\n",
    "                                    dashes = False,\n",
    "                                    aspect=11/5,\n",
    "                                    palette = ['lightpink', 'red', 'firebrick', 'lightgrey','grey', 'black'],\n",
    "                                    data=top20funddomyearAll).set(xticks=top20funddomyearAll.index,\n",
    "                                                                   title='Top 6 Highest Funded Domains and Their Average Total Funding')\n",
    "plt.xticks(rotation=45);\n",
    "top20funddomPlot.set_ylabels('Total Funding in USD')\n",
    "top20funddomPlot.set_xlabels('Founding Year')\n",
    "plt.legend(title='Domains', labels = top20funddomyearAll.columns);\n",
    "\n",
    "# Create all necessary dataframes\n",
    "stopfunddom = dforg.groupby('Domains', as_index = False)['funding_total_usd'].sum()\n",
    "stopfunddom20 = stopfunddom.nlargest(n=6, columns = ['funding_total_usd'])\n",
    "stopfunddom20names = stopfunddom20['Domains']\n",
    "stopfunddom20names.drop_duplicates(inplace = True)\n",
    "stop20funddomyear = dforg.groupby(['Domains', 'founding_year'], as_index = False)['funding_total_usd'].sum()\n",
    "stop20funddomyearAll = stop20funddomyear.loc[stop20funddomyear['Domains'].isin(stopfunddom20names)]\n",
    "stop20funddomyearAll = stop20funddomyearAll.pivot(index = 'founding_year', columns = 'Domains', values = 'funding_total_usd')\n",
    "\n",
    "# Plotting the aforementioned series in a bar chart to show domains with the largest average funding in USD\n",
    "stop20funddomPlot = sns.relplot(estimator=None,\n",
    "                                    kind=\"line\", \n",
    "                                    height=6, \n",
    "                                    marker=\"o\", \n",
    "                                    legend = False,\n",
    "                                    dashes = False,\n",
    "                                    aspect=11/5,\n",
    "                                    palette = ['lightpink', 'red', 'firebrick', 'lightgrey','grey', 'black'],\n",
    "                                    data=stop20funddomyearAll).set(xticks=stop20funddomyearAll.index,\n",
    "                                                                   title='Top 6 Highest Funded Domains and Their Sum of Total Funding')\n",
    "plt.xticks(rotation=45);\n",
    "stop20funddomPlot.set_ylabels('Sum of Total Funding in USD')\n",
    "stop20funddomPlot.set_xlabels('Founding Year')\n",
    "plt.legend(title='Domains', labels = top20funddomyearAll.columns);"
   ]
  },
  {
   "cell_type": "markdown",
   "id": "28d055c8",
   "metadata": {},
   "source": [
    "#### Domain Length"
   ]
  },
  {
   "cell_type": "markdown",
   "id": "3263e48d",
   "metadata": {},
   "source": [
    "###### Domain Shares\n",
    "As we researched domains, we realised it might also be interesting to investigate the trends of domain lenghts. Below a the shares of the top 10 most frequently occuring domain lenght is visualized. You can see that most domains are between five and thirteen characters long. Startups without a domain are obviously represented by the share of zero characters. "
   ]
  },
  {
   "cell_type": "code",
   "execution_count": null,
   "id": "73abcf21",
   "metadata": {
    "tags": [
     "hide-input"
    ]
   },
   "outputs": [],
   "source": [
    "# Selecting and displaying the top 10 most frequently occurring website (body) lengths for startups\n",
    "toplens = dforg['DomainLength'].value_counts().head(10)\n",
    "dforg = dforg.astype({'DomainLength': 'int64'})\n",
    "# Plotting the aforementioned series in a pie chart\n",
    "labels1 = toplens.index.to_list()\n",
    "percentages1 = toplens.to_numpy()*100/toplens.to_numpy().sum()\n",
    "\n",
    "toplens.plot.pie(y= 'count',\n",
    "                          figsize=(5, 5),\n",
    "                          title = 'Top 10 Frequently Used Domain Length', \n",
    "                          ylabel = 'Domain Name Length',\n",
    "                          labels = None,\n",
    "                          colors = ['black', 'grey','darkgrey', 'lightgrey', 'whitesmoke', \n",
    "                                    'mistyrose', 'lightpink', 'tomato', 'red', 'darkred'])\n",
    "plt.legend(bbox_to_anchor=(1.7,0.9), loc='upper right', title = 'Domain Lengths',\n",
    "           labels=['%s, %1.1f %%' % (l, s) for l, s in zip(labels1,percentages1)])\n",
    "my_circle=plt.Circle( (0,0), 0.5, color='white')\n",
    "p=plt.gcf()\n",
    "p.gca().add_artist(my_circle);"
   ]
  },
  {
   "cell_type": "markdown",
   "id": "3bbb035a",
   "metadata": {},
   "source": [
    "###### Top 10 Most Frequently Occuring Domain Lengths and Their Average Total Funding\n",
    "Additonally to what was previously shown in the shares plot, we can see that the average total funding is quite similar for the domains with lenght between five and thirteen. A reason why these averages are closed, are probably due to the shares being divided more equally, thereby having a more similar distribution of low and high funded domains per domain length. \n",
    "###### Top 10 Highest Funded Domain Lengths and Their Average Total Funding\n",
    "Comaparably to the Total Funding plots of the domain extensions, we can also see a clear difference between the average total funding of the most frequently occuring domain length and that of the highest funded domain lengths. The shorter domain lenghts like '2' and '3' were to be expected as big organizations such as IBM and General Motors (GM). However, we did not expect to see a '22' character domain perform so well on average total funding. Nevertheless, we expect this is a result of one or a few highly funded '22' character long domains, with only a few domains of that lenght in our dataset.\n"
   ]
  },
  {
   "cell_type": "code",
   "execution_count": null,
   "id": "3438f8b1",
   "metadata": {
    "tags": [
     "hide-input"
    ]
   },
   "outputs": [],
   "source": [
    "# Plot to visualize the average total funding for the top 10 most frequently occurring \n",
    "# Comparing average funding received per top 10 most frequently occurring  \n",
    "# domain (body) lengths in a dataframe\n",
    "lenfund = dforg.groupby('DomainLength')['funding_total_usd'].mean()\n",
    "res = pd.merge(toplens,lenfund, left_index=True, right_index=True).sort_values(ascending=False, by=['funding_total_usd'])\n",
    "\n",
    "# domain (body) lengths as bar chart\n",
    "res.reset_index().plot(x = 'index', y='funding_total_usd', kind='bar', \n",
    "                          ylabel = 'Total Funding Received in USD', \n",
    "                          xlabel = 'Length Characters of Domain',\n",
    "                          title = 'Top 10 Most Frequently Occuring Domain Lengths \\n and Their Average Total Funding',\n",
    "                         fontsize = 12, grid = True, figsize=(8, 6))\n",
    "plt.xticks(rotation=0);\n",
    "\n",
    "# Plot to visualize the average total funding for the top 10  \n",
    "# Series to depict the top 10 domain (body) lengths with the highest average total funding in USD\n",
    "sortfundLen = dforg.groupby('DomainLength')['funding_total_usd'].mean().sort_values(ascending=False).head(10)\n",
    "\n",
    "# domain (body) lengths with the highest average total funding in USD as bar chart\n",
    "sortfundLen.reset_index().plot(x = 'DomainLength', y='funding_total_usd', kind='bar', \n",
    "                          ylabel = 'Total Funding Received in USD', \n",
    "                          xlabel = 'Length Characters of Domain',\n",
    "                            title = 'Top 10 Highest Funded Domain Lengths \\n and Their Average Total Funding',\n",
    "                         fontsize = 12, grid = True, figsize=(8, 6))\n",
    "plt.xticks(rotation=0);"
   ]
  }
 ],
 "metadata": {
  "kernelspec": {
   "display_name": "Python 3",
   "language": "python",
   "name": "python3"
  },
  "language_info": {
   "codemirror_mode": {
    "name": "ipython",
    "version": 3
   },
   "file_extension": ".py",
   "mimetype": "text/x-python",
   "name": "python",
   "nbconvert_exporter": "python",
   "pygments_lexer": "ipython3",
   "version": "3.8.8"
  }
 },
 "nbformat": 4,
 "nbformat_minor": 5
}
